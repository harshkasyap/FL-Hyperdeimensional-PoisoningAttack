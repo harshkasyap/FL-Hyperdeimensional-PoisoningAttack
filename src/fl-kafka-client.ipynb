{
 "cells": [
  {
   "cell_type": "code",
   "execution_count": 1,
   "id": "70a77f9c",
   "metadata": {},
   "outputs": [],
   "source": [
    "%load_ext autoreload\n",
    "%autoreload 2\n",
    "\n",
    "import copy, os, socket, sys, time\n",
    "from pathlib import Path\n",
    "from tqdm import tqdm\n",
    "\n",
    "import torch\n",
    "from torch import optim\n",
    "from torch.utils.tensorboard import SummaryWriter\n",
    "\n",
    "sys.path.insert(0, os.path.abspath(os.path.join(os.getcwd(), \"../\")))\n",
    "from libs import agg, data, fl, log, nn, plot, poison, resnet, sim, wandb\n",
    "from libs.distributed import *\n",
    "from cfgs.fedargs import *"
   ]
  },
  {
   "cell_type": "code",
   "execution_count": 2,
   "id": "8c9749cd",
   "metadata": {},
   "outputs": [
    {
     "name": "stderr",
     "output_type": "stream",
     "text": [
      "\u001b[34m\u001b[1mwandb\u001b[0m: Currently logged in as: \u001b[33mkasyah\u001b[0m (use `wandb login --relogin` to force relogin)\n",
      "\u001b[34m\u001b[1mwandb\u001b[0m: wandb version 0.12.6 is available!  To upgrade, please run:\n",
      "\u001b[34m\u001b[1mwandb\u001b[0m:  $ pip install wandb --upgrade\n"
     ]
    },
    {
     "data": {
      "text/html": [
       "\n",
       "                    Syncing run <strong><a href=\"https://wandb.ai/kasyah/fl-kafka-client/runs/3o0oncv9\" target=\"_blank\">fedavg-cnn-mnist-na-client-x</a></strong> to <a href=\"https://wandb.ai/kasyah/fl-kafka-client\" target=\"_blank\">Weights & Biases</a> (<a href=\"https://docs.wandb.com/integrations/jupyter.html\" target=\"_blank\">docs</a>).<br/>\n",
       "\n",
       "                "
      ],
      "text/plain": [
       "<IPython.core.display.HTML object>"
      ]
     },
     "metadata": {},
     "output_type": "display_data"
    }
   ],
   "source": [
    "project = 'fl-kafka-client'\n",
    "fedargs.num_clients = 1\n",
    "name = 'fedavg-cnn-mnist-na-' + fedargs.name\n",
    "\n",
    "# Save Logs To File (info | debug | warning | error | critical) [optional]\n",
    "log.init(\"info\")\n",
    "#log.init(\"info\", name)\n",
    "#log.init(\"debug\", name)\n",
    "\n",
    "fedargs.tb = SummaryWriter('../out/runs/' + project + '/' + name, comment=\"fl\")\n",
    "plot = plot.init(name, project)\n",
    "wb = wandb.init(name, project)"
   ]
  },
  {
   "cell_type": "code",
   "execution_count": 3,
   "id": "6a3022ee",
   "metadata": {},
   "outputs": [],
   "source": [
    "use_cuda = fedargs.cuda and torch.cuda.is_available()\n",
    "torch.manual_seed(fedargs.seed)\n",
    "device = torch.device(\"cuda\" if use_cuda else \"cpu\")\n",
    "kwargs = {\"num_workers\": 1, \"pin_memory\": True} if use_cuda else {}"
   ]
  },
  {
   "cell_type": "code",
   "execution_count": 4,
   "id": "3e8de969",
   "metadata": {},
   "outputs": [],
   "source": [
    "host = socket.gethostname()\n",
    "clients = [host + \": \" + fedargs.name]"
   ]
  },
  {
   "cell_type": "code",
   "execution_count": 5,
   "id": "31118d30",
   "metadata": {},
   "outputs": [],
   "source": [
    "# Distributed topology\n",
    "dt = Distributed(clients, fedargs.broker_ip, fedargs.schema_ip, fedargs.wait_to_consume)"
   ]
  },
  {
   "cell_type": "code",
   "execution_count": 6,
   "id": "e8a71374",
   "metadata": {},
   "outputs": [],
   "source": [
    "# Initialize Global and Client models\n",
    "global_model = copy.deepcopy(fedargs.model)\n",
    "# Load Data to clients\n",
    "train_data, test_data = data.load_dataset(fedargs.dataset)"
   ]
  },
  {
   "cell_type": "code",
   "execution_count": 7,
   "id": "da8c00ba",
   "metadata": {},
   "outputs": [],
   "source": [
    "clients_data = data.split_data(train_data, clients)"
   ]
  },
  {
   "cell_type": "code",
   "execution_count": 8,
   "id": "b7283a3b",
   "metadata": {},
   "outputs": [],
   "source": [
    "client_train_loaders, client_test_loaders = data.load_client_data(clients_data, fedargs.client_batch_size, 0.2, **kwargs)\n",
    "test_loader = torch.utils.data.DataLoader(test_data, batch_size=fedargs.test_batch_size, shuffle=True, **kwargs)\n",
    "\n",
    "client_details = {\n",
    "        client: {\"train_loader\": client_train_loaders[client],\n",
    "                 \"test_loader\": client_test_loaders[client],\n",
    "                 \"model\": copy.deepcopy(global_model),\n",
    "                 \"model_update\": None}\n",
    "        for client in clients\n",
    "    }"
   ]
  },
  {
   "cell_type": "code",
   "execution_count": 9,
   "id": "280fc803",
   "metadata": {},
   "outputs": [],
   "source": [
    "def process(client, epoch, dt, model, train_loader, test_loader, fedargs, device):\n",
    "    log.info(\"Epoch: {}, Processing Client {}\".format(epoch, client))\n",
    "    \n",
    "    # Consume and Average, epoch passed is actually prev epoch, for which we want to consume updates\n",
    "    client_model_updates = dt.consume_model(client, fedargs.topic, model, epoch)\n",
    "    \n",
    "    # Pop one's own update\n",
    "    if client in client_model_updates:\n",
    "        client_model_updates.pop(client)\n",
    "\n",
    "    log.info(\"Epoch: {}, Client {} received {} model update(s) from {}\".format(epoch, client, \n",
    "                                                                               len(client_model_updates), \n",
    "                                                                               list(client_model_updates.keys())))\n",
    "    \n",
    "    if len(client_model_updates) != 0:\n",
    "        model = fl.federated_avg(client_model_updates, model)\n",
    "\n",
    "    # Train    \n",
    "    model_update, model, loss = fedargs.train_func(model, train_loader, \n",
    "                                                   fedargs.learning_rate,\n",
    "                                                   fedargs.weight_decay,\n",
    "                                                   fedargs.local_rounds, device)\n",
    "\n",
    "    # Publish\n",
    "    epoch = epoch + 1\n",
    "    dt.produce_model(client, fedargs.topic, model_update, epoch)\n",
    "\n",
    "    log.jsondebug(loss, \"Epoch {} : Federated Training loss, Client {}\".format(epoch, client))\n",
    "    log.modeldebug(model, \"Epoch {}: Client {} Update\".format(epoch, client))\n",
    "\n",
    "    # Test, Plot and Log\n",
    "    test_output = fedargs.eval_func(model, test_loader, device)\n",
    "    fedargs.tb.add_scalar(\"Accuracy/\" + client, test_output[\"accuracy\"], epoch)\n",
    "    fedargs.tb.add_scalar(\"Test Loss/\" + client, test_output[\"test_loss\"], epoch)\n",
    "    plot.alog(client, {epoch: {\"time\": time.time(), \"acc\": test_output[\"accuracy\"], \"loss\": test_output[\"test_loss\"]}})\n",
    "    wb.log({client: {\"epoch\": epoch, \"time\": time.time(), \"acc\": test_output[\"accuracy\"], \"loss\": test_output[\"test_loss\"]}})\n",
    "    log.jsoninfo(test_output, \"Test Outut after Epoch {} of {} for Client {}\".format(epoch, fedargs.epochs, client))\n",
    "\n",
    "    return model"
   ]
  },
  {
   "cell_type": "code",
   "execution_count": null,
   "id": "fc40c00d",
   "metadata": {},
   "outputs": [
    {
     "name": "stderr",
     "output_type": "stream",
     "text": [
      "  0%|          | 0/51 [00:00<?, ?it/s]2021-11-06 13:26:20,964 - <ipython-input-10-387a89c474b9>::<module>(l:6) : Federated Training Epoch 0 of 51 [MainProcess : MainThread (INFO)]\n",
      "2021-11-06 13:26:20,993 - <ipython-input-9-a04f38dd6afa>::process(l:2) : Epoch: 0, Processing Client bladecluster.iitp.org: client-x [MainProcess : MainThread (INFO)]\n",
      "2021-11-06 13:26:31,176 - <ipython-input-9-a04f38dd6afa>::process(l:11) : Epoch: 0, Client bladecluster.iitp.org: client-x received 50 model update(s) from ['bladecluster.iitp.org(4)', 'bladecluster.iitp.org(5)', 'bladecluster.iitp.org(6)', 'bladecluster.iitp.org(1)', 'bladecluster.iitp.org(18)', 'bladecluster.iitp.org(3)', 'bladecluster.iitp.org(31)', 'bladecluster.iitp.org(17)', 'bladecluster.iitp.org(9)', 'bladecluster.iitp.org(11)', 'bladecluster.iitp.org(32)', 'bladecluster.iitp.org(19)', 'bladecluster.iitp.org(21)', 'bladecluster.iitp.org(2)', 'bladecluster.iitp.org(15)', 'bladecluster.iitp.org(14)', 'bladecluster.iitp.org(13)', 'bladecluster.iitp.org(12)', 'bladecluster.iitp.org(7)', 'bladecluster.iitp.org(16)', 'bladecluster.iitp.org(23)', 'bladecluster.iitp.org(26)', 'bladecluster.iitp.org(24)', 'bladecluster.iitp.org(28)', 'bladecluster.iitp.org(10)', 'bladecluster.iitp.org(25)', 'bladecluster.iitp.org(22)', 'bladecluster.iitp.org(27)', 'bladecluster.iitp.org(30)', 'bladecluster.iitp.org(20)', 'bladecluster.iitp.org(8)', 'bladecluster.iitp.org(29)', 'bladecluster.iitp.org(33)', 'bladecluster.iitp.org(43)', 'bladecluster.iitp.org(46)', 'bladecluster.iitp.org(39)', 'bladecluster.iitp.org(42)', 'bladecluster.iitp.org(41)', 'bladecluster.iitp.org(37)', 'bladecluster.iitp.org(40)', 'bladecluster.iitp.org(47)', 'bladecluster.iitp.org(48)', 'bladecluster.iitp.org(45)', 'bladecluster.iitp.org(38)', 'bladecluster.iitp.org(34)', 'bladecluster.iitp.org(35)', 'bladecluster.iitp.org(49)', 'bladecluster.iitp.org(36)', 'bladecluster.iitp.org(50)', 'bladecluster.iitp.org(44)'] [MainProcess : MainThread (INFO)]\n",
      "2021-11-06 13:27:15,411 - /home/harsh_1921cs01/hub/AgroFed/fl/libs/protobuf_producer.py::produce(l:56) : Producing user records to topic pyflx. ^C to exit. [MainProcess : MainThread (INFO)]\n",
      "2021-11-06 13:27:15,600 - /home/harsh_1921cs01/hub/AgroFed/fl/libs/protobuf_producer.py::produce(l:66) : Flushing records... [MainProcess : MainThread (INFO)]\n",
      "2021-11-06 13:27:16,473 - /home/harsh_1921cs01/hub/AgroFed/fl/libs/protobuf_producer.py::delivery_report(l:50) : User record b'bladecluster.iitp.org: client-x' successfully produced to pyflx [0] at offset 1241 [MainProcess : MainThread (INFO)]\n",
      "2021-11-06 13:27:21,161 - <ipython-input-9-a04f38dd6afa>::process(l:37) : Test Outut after Epoch 1 of 51 for Client bladecluster.iitp.org: client-x {\n",
      "    \"accuracy\": 91.10833333333333,\n",
      "    \"correct\": 10933,\n",
      "    \"test_loss\": 0.29744315018256506\n",
      "} [MainProcess : MainThread (INFO)]\n",
      "  2%|▏         | 1/51 [01:00<50:26, 60.54s/it]2021-11-06 13:27:21,180 - <ipython-input-10-387a89c474b9>::<module>(l:6) : Federated Training Epoch 1 of 51 [MainProcess : MainThread (INFO)]\n",
      "2021-11-06 13:27:21,205 - <ipython-input-9-a04f38dd6afa>::process(l:2) : Epoch: 1, Processing Client bladecluster.iitp.org: client-x [MainProcess : MainThread (INFO)]\n",
      "2021-11-06 13:27:31,317 - <ipython-input-9-a04f38dd6afa>::process(l:11) : Epoch: 1, Client bladecluster.iitp.org: client-x received 50 model update(s) from ['bladecluster.iitp.org(27)', 'bladecluster.iitp.org(31)', 'bladecluster.iitp.org(34)', 'bladecluster.iitp.org(37)', 'bladecluster.iitp.org(35)', 'bladecluster.iitp.org(40)', 'bladecluster.iitp.org(42)', 'bladecluster.iitp.org(38)', 'bladecluster.iitp.org(46)', 'bladecluster.iitp.org(36)', 'bladecluster.iitp.org(33)', 'bladecluster.iitp.org(41)', 'bladecluster.iitp.org(44)', 'bladecluster.iitp.org(39)', 'bladecluster.iitp.org(45)', 'bladecluster.iitp.org(47)', 'bladecluster.iitp.org(48)', 'bladecluster.iitp.org(43)', 'bladecluster.iitp.org(49)', 'bladecluster.iitp.org(50)', 'bladecluster.iitp.org(3)', 'bladecluster.iitp.org(23)', 'bladecluster.iitp.org(22)', 'bladecluster.iitp.org(9)', 'bladecluster.iitp.org(10)', 'bladecluster.iitp.org(11)', 'bladecluster.iitp.org(15)', 'bladecluster.iitp.org(5)', 'bladecluster.iitp.org(19)', 'bladecluster.iitp.org(26)', 'bladecluster.iitp.org(4)', 'bladecluster.iitp.org(29)', 'bladecluster.iitp.org(6)', 'bladecluster.iitp.org(14)', 'bladecluster.iitp.org(1)', 'bladecluster.iitp.org(8)', 'bladecluster.iitp.org(24)', 'bladecluster.iitp.org(28)', 'bladecluster.iitp.org(12)', 'bladecluster.iitp.org(32)', 'bladecluster.iitp.org(16)', 'bladecluster.iitp.org(25)', 'bladecluster.iitp.org(20)', 'bladecluster.iitp.org(18)', 'bladecluster.iitp.org(13)', 'bladecluster.iitp.org(7)', 'bladecluster.iitp.org(17)', 'bladecluster.iitp.org(21)', 'bladecluster.iitp.org(2)', 'bladecluster.iitp.org(30)'] [MainProcess : MainThread (INFO)]\n",
      "2021-11-06 13:28:17,629 - /home/harsh_1921cs01/hub/AgroFed/fl/libs/protobuf_producer.py::produce(l:56) : Producing user records to topic pyflx. ^C to exit. [MainProcess : MainThread (INFO)]\n",
      "2021-11-06 13:28:17,819 - /home/harsh_1921cs01/hub/AgroFed/fl/libs/protobuf_producer.py::produce(l:66) : Flushing records... [MainProcess : MainThread (INFO)]\n",
      "2021-11-06 13:28:18,697 - /home/harsh_1921cs01/hub/AgroFed/fl/libs/protobuf_producer.py::delivery_report(l:50) : User record b'bladecluster.iitp.org: client-x' successfully produced to pyflx [0] at offset 1252 [MainProcess : MainThread (INFO)]\n",
      "2021-11-06 13:28:22,651 - <ipython-input-9-a04f38dd6afa>::process(l:37) : Test Outut after Epoch 2 of 51 for Client bladecluster.iitp.org: client-x {\n",
      "    \"accuracy\": 91.43333333333334,\n",
      "    \"correct\": 10972,\n",
      "    \"test_loss\": 0.28849905236562096\n",
      "} [MainProcess : MainThread (INFO)]\n",
      "  4%|▍         | 2/51 [02:02<49:53, 61.10s/it]2021-11-06 13:28:22,667 - <ipython-input-10-387a89c474b9>::<module>(l:6) : Federated Training Epoch 2 of 51 [MainProcess : MainThread (INFO)]\n",
      "2021-11-06 13:28:22,686 - <ipython-input-9-a04f38dd6afa>::process(l:2) : Epoch: 2, Processing Client bladecluster.iitp.org: client-x [MainProcess : MainThread (INFO)]\n",
      "2021-11-06 13:28:32,828 - <ipython-input-9-a04f38dd6afa>::process(l:11) : Epoch: 2, Client bladecluster.iitp.org: client-x received 31 model update(s) from ['bladecluster.iitp.org(9)', 'bladecluster.iitp.org(19)', 'bladecluster.iitp.org(14)', 'bladecluster.iitp.org(16)', 'bladecluster.iitp.org(18)', 'bladecluster.iitp.org(17)', 'bladecluster.iitp.org(15)', 'bladecluster.iitp.org(10)', 'bladecluster.iitp.org(21)', 'bladecluster.iitp.org(3)', 'bladecluster.iitp.org(31)', 'bladecluster.iitp.org(25)', 'bladecluster.iitp.org(5)', 'bladecluster.iitp.org(1)', 'bladecluster.iitp.org(4)', 'bladecluster.iitp.org(24)', 'bladecluster.iitp.org(28)', 'bladecluster.iitp.org(13)', 'bladecluster.iitp.org(11)', 'bladecluster.iitp.org(32)', 'bladecluster.iitp.org(26)', 'bladecluster.iitp.org(27)', 'bladecluster.iitp.org(20)', 'bladecluster.iitp.org(8)', 'bladecluster.iitp.org(30)', 'bladecluster.iitp.org(23)', 'bladecluster.iitp.org(12)', 'bladecluster.iitp.org(29)', 'bladecluster.iitp.org(7)', 'bladecluster.iitp.org(22)', 'bladecluster.iitp.org(2)'] [MainProcess : MainThread (INFO)]\n",
      "2021-11-06 13:29:16,839 - /home/harsh_1921cs01/hub/AgroFed/fl/libs/protobuf_producer.py::produce(l:56) : Producing user records to topic pyflx. ^C to exit. [MainProcess : MainThread (INFO)]\n",
      "2021-11-06 13:29:17,016 - /home/harsh_1921cs01/hub/AgroFed/fl/libs/protobuf_producer.py::produce(l:66) : Flushing records... [MainProcess : MainThread (INFO)]\n",
      "2021-11-06 13:29:17,912 - /home/harsh_1921cs01/hub/AgroFed/fl/libs/protobuf_producer.py::delivery_report(l:50) : User record b'bladecluster.iitp.org: client-x' successfully produced to pyflx [0] at offset 1258 [MainProcess : MainThread (INFO)]\n",
      "2021-11-06 13:29:21,583 - <ipython-input-9-a04f38dd6afa>::process(l:37) : Test Outut after Epoch 3 of 51 for Client bladecluster.iitp.org: client-x {\n",
      "    \"accuracy\": 91.77499999999999,\n",
      "    \"correct\": 11013,\n",
      "    \"test_loss\": 0.27934175878266493\n",
      "} [MainProcess : MainThread (INFO)]\n",
      "  6%|▌         | 3/51 [03:00<48:05, 60.11s/it]2021-11-06 13:29:21,606 - <ipython-input-10-387a89c474b9>::<module>(l:6) : Federated Training Epoch 3 of 51 [MainProcess : MainThread (INFO)]\n"
     ]
    },
    {
     "name": "stderr",
     "output_type": "stream",
     "text": [
      "2021-11-06 13:29:21,625 - <ipython-input-9-a04f38dd6afa>::process(l:2) : Epoch: 3, Processing Client bladecluster.iitp.org: client-x [MainProcess : MainThread (INFO)]\n",
      "2021-11-06 13:29:31,688 - <ipython-input-9-a04f38dd6afa>::process(l:11) : Epoch: 3, Client bladecluster.iitp.org: client-x received 5 model update(s) from ['bladecluster.iitp.org(2)', 'bladecluster.iitp.org(3)', 'bladecluster.iitp.org(4)', 'bladecluster.iitp.org(1)', 'bladecluster.iitp.org(5)'] [MainProcess : MainThread (INFO)]\n",
      "2021-11-06 13:30:14,562 - /home/harsh_1921cs01/hub/AgroFed/fl/libs/protobuf_producer.py::produce(l:56) : Producing user records to topic pyflx. ^C to exit. [MainProcess : MainThread (INFO)]\n",
      "2021-11-06 13:30:14,726 - /home/harsh_1921cs01/hub/AgroFed/fl/libs/protobuf_producer.py::produce(l:66) : Flushing records... [MainProcess : MainThread (INFO)]\n",
      "2021-11-06 13:30:15,744 - /home/harsh_1921cs01/hub/AgroFed/fl/libs/protobuf_producer.py::delivery_report(l:50) : User record b'bladecluster.iitp.org: client-x' successfully produced to pyflx [0] at offset 1264 [MainProcess : MainThread (INFO)]\n",
      "2021-11-06 13:30:19,488 - <ipython-input-9-a04f38dd6afa>::process(l:37) : Test Outut after Epoch 4 of 51 for Client bladecluster.iitp.org: client-x {\n",
      "    \"accuracy\": 92.38333333333333,\n",
      "    \"correct\": 11086,\n",
      "    \"test_loss\": 0.256139566163222\n",
      "} [MainProcess : MainThread (INFO)]\n",
      "  8%|▊         | 4/51 [03:58<46:24, 59.24s/it]2021-11-06 13:30:19,502 - <ipython-input-10-387a89c474b9>::<module>(l:6) : Federated Training Epoch 4 of 51 [MainProcess : MainThread (INFO)]\n",
      "2021-11-06 13:30:19,524 - <ipython-input-9-a04f38dd6afa>::process(l:2) : Epoch: 4, Processing Client bladecluster.iitp.org: client-x [MainProcess : MainThread (INFO)]\n",
      "2021-11-06 13:30:29,562 - <ipython-input-9-a04f38dd6afa>::process(l:11) : Epoch: 4, Client bladecluster.iitp.org: client-x received 5 model update(s) from ['bladecluster.iitp.org(4)', 'bladecluster.iitp.org(1)', 'bladecluster.iitp.org(2)', 'bladecluster.iitp.org(3)', 'bladecluster.iitp.org(5)'] [MainProcess : MainThread (INFO)]\n",
      "2021-11-06 13:31:09,323 - /home/harsh_1921cs01/hub/AgroFed/fl/libs/protobuf_producer.py::produce(l:56) : Producing user records to topic pyflx. ^C to exit. [MainProcess : MainThread (INFO)]\n",
      "2021-11-06 13:31:09,550 - /home/harsh_1921cs01/hub/AgroFed/fl/libs/protobuf_producer.py::produce(l:66) : Flushing records... [MainProcess : MainThread (INFO)]\n",
      "2021-11-06 13:31:10,377 - /home/harsh_1921cs01/hub/AgroFed/fl/libs/protobuf_producer.py::delivery_report(l:50) : User record b'bladecluster.iitp.org: client-x' successfully produced to pyflx [0] at offset 1270 [MainProcess : MainThread (INFO)]\n",
      "2021-11-06 13:31:15,869 - <ipython-input-9-a04f38dd6afa>::process(l:37) : Test Outut after Epoch 5 of 51 for Client bladecluster.iitp.org: client-x {\n",
      "    \"accuracy\": 92.26666666666667,\n",
      "    \"correct\": 11072,\n",
      "    \"test_loss\": 0.27458674397071203\n",
      "} [MainProcess : MainThread (INFO)]\n",
      " 10%|▉         | 5/51 [04:55<44:37, 58.21s/it]2021-11-06 13:31:15,888 - <ipython-input-10-387a89c474b9>::<module>(l:6) : Federated Training Epoch 5 of 51 [MainProcess : MainThread (INFO)]\n",
      "2021-11-06 13:31:15,912 - <ipython-input-9-a04f38dd6afa>::process(l:2) : Epoch: 5, Processing Client bladecluster.iitp.org: client-x [MainProcess : MainThread (INFO)]\n",
      "2021-11-06 13:31:25,950 - <ipython-input-9-a04f38dd6afa>::process(l:11) : Epoch: 5, Client bladecluster.iitp.org: client-x received 5 model update(s) from ['bladecluster.iitp.org(4)', 'bladecluster.iitp.org(2)', 'bladecluster.iitp.org(3)', 'bladecluster.iitp.org(1)', 'bladecluster.iitp.org(5)'] [MainProcess : MainThread (INFO)]\n",
      "2021-11-06 13:32:03,350 - /home/harsh_1921cs01/hub/AgroFed/fl/libs/protobuf_producer.py::produce(l:56) : Producing user records to topic pyflx. ^C to exit. [MainProcess : MainThread (INFO)]\n",
      "2021-11-06 13:32:03,553 - /home/harsh_1921cs01/hub/AgroFed/fl/libs/protobuf_producer.py::produce(l:66) : Flushing records... [MainProcess : MainThread (INFO)]\n",
      "2021-11-06 13:32:04,397 - /home/harsh_1921cs01/hub/AgroFed/fl/libs/protobuf_producer.py::delivery_report(l:50) : User record b'bladecluster.iitp.org: client-x' successfully produced to pyflx [0] at offset 1276 [MainProcess : MainThread (INFO)]\n",
      "2021-11-06 13:32:11,223 - <ipython-input-9-a04f38dd6afa>::process(l:37) : Test Outut after Epoch 6 of 51 for Client bladecluster.iitp.org: client-x {\n",
      "    \"accuracy\": 92.15833333333333,\n",
      "    \"correct\": 11059,\n",
      "    \"test_loss\": 0.2675584669311841\n",
      "} [MainProcess : MainThread (INFO)]\n",
      " 12%|█▏        | 6/51 [05:50<42:55, 57.24s/it]2021-11-06 13:32:11,240 - <ipython-input-10-387a89c474b9>::<module>(l:6) : Federated Training Epoch 6 of 51 [MainProcess : MainThread (INFO)]\n",
      "2021-11-06 13:32:11,266 - <ipython-input-9-a04f38dd6afa>::process(l:2) : Epoch: 6, Processing Client bladecluster.iitp.org: client-x [MainProcess : MainThread (INFO)]\n",
      "2021-11-06 13:32:21,335 - <ipython-input-9-a04f38dd6afa>::process(l:11) : Epoch: 6, Client bladecluster.iitp.org: client-x received 5 model update(s) from ['bladecluster.iitp.org(4)', 'bladecluster.iitp.org(3)', 'bladecluster.iitp.org(1)', 'bladecluster.iitp.org(2)', 'bladecluster.iitp.org(5)'] [MainProcess : MainThread (INFO)]\n"
     ]
    }
   ],
   "source": [
    "import time\n",
    "start_time = time.time()\n",
    "\n",
    "# Federated Training\n",
    "for epoch in tqdm(range(fedargs.epochs)):\n",
    "    log.info(\"Federated Training Epoch {} of {}\".format(epoch, fedargs.epochs))\n",
    "\n",
    "    for client in clients:\n",
    "        client_details[client]['model'] = process(client, epoch, dt, client_details[client]['model'],\n",
    "                                                  client_details[client]['train_loader'],\n",
    "                                                  client_details[client]['test_loader'],\n",
    "                                                  fedargs, device)\n",
    "print(time.time() - start_time)"
   ]
  },
  {
   "cell_type": "markdown",
   "id": "41c8617e",
   "metadata": {
    "deletable": false,
    "editable": false
   },
   "source": [
    "<h1> End </h1>"
   ]
  }
 ],
 "metadata": {
  "kernelspec": {
   "display_name": "Python [conda env:syft]",
   "language": "python",
   "name": "conda-env-syft-py"
  },
  "language_info": {
   "codemirror_mode": {
    "name": "ipython",
    "version": 3
   },
   "file_extension": ".py",
   "mimetype": "text/x-python",
   "name": "python",
   "nbconvert_exporter": "python",
   "pygments_lexer": "ipython3",
   "version": "3.9.5"
  }
 },
 "nbformat": 4,
 "nbformat_minor": 5
}
