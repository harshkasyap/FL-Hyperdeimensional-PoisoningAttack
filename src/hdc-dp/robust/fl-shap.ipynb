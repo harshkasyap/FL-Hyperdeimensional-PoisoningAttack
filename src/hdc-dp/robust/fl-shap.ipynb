{
 "cells": [
  {
   "cell_type": "code",
   "execution_count": 178,
   "id": "2ac6d8c4",
   "metadata": {},
   "outputs": [],
   "source": [
    "import torch\n",
    "import shap\n",
    "from torch import nn\n",
    "import torch.nn.functional as f\n",
    "from torchvision import datasets, transforms\n",
    "from torch import optim\n",
    "\n",
    "%matplotlib inline\n",
    "import matplotlib.pyplot as plt\n",
    "import numpy as np\n",
    "\n",
    "import helper"
   ]
  },
  {
   "cell_type": "code",
   "execution_count": 179,
   "id": "6b97ef4e",
   "metadata": {},
   "outputs": [],
   "source": [
    "#define all arguments and their values\n",
    "class Arguments():\n",
    "    def __init__(self):\n",
    "        self.batch_size = 32\n",
    "        self.test_batch_size = 128\n",
    "        self.lr = 0.01\n",
    "        self.seed = 7   \n",
    "        self.num_epochs=2"
   ]
  },
  {
   "cell_type": "code",
   "execution_count": 180,
   "id": "e848dd4c",
   "metadata": {},
   "outputs": [],
   "source": [
    "#Define our CNN network\n",
    "\n",
    "class Net(nn.Module):\n",
    "    def __init__(self):\n",
    "        super(Net, self).__init__()\n",
    "        self.conv1 = nn.Conv2d(1, 20, 5, 1)\n",
    "        self.conv2 = nn.Conv2d(20, 50, 5, 1)\n",
    "        self.conv2_drop = nn.Dropout2d()\n",
    "        self.fc1 = nn.Linear(4 * 4 * 50, 500)\n",
    "        self.fc2 = nn.Linear(500, 10)\n",
    "\n",
    "    def forward(self, x):\n",
    "        x = f.relu(self.conv1(x))\n",
    "        x = f.max_pool2d(x, 2, 2)\n",
    "        x = f.relu(self.conv2(x))\n",
    "        x = f.max_pool2d(x, 2, 2)\n",
    "        x = x.view(-1, 4 * 4 * 50)\n",
    "        x = f.relu(self.fc1(x))\n",
    "        x = f.dropout(x, training=self.training)\n",
    "        x = self.fc2(x)\n",
    "        return f.log_softmax(x, dim=1) "
   ]
  },
  {
   "cell_type": "code",
   "execution_count": 181,
   "id": "d6dfaed6",
   "metadata": {},
   "outputs": [],
   "source": [
    "# train data and a test data (without any rotation) set\n",
    "# Define a transform to normalize the data\n",
    "transform = transforms.Compose([transforms.ToTensor(),\n",
    "                               transforms.Normalize((0.1307,), (0.3081,)),\n",
    "                              ])\n",
    "\n",
    "args = Arguments()\n",
    "torch.manual_seed(args.seed)\n",
    "\n",
    "# MNIST: Download and load the training data\n",
    "trainset_mnist = datasets.MNIST('MNIST_data/', download = True, train = True, transform = transform)\n",
    "trainloader_mnist = torch.utils.data.DataLoader(trainset_mnist, batch_size = args.batch_size, shuffle = True)\n",
    "# MNIST: Download and load the test data\n",
    "testset_mnist = datasets.MNIST('MNIST_data/', train = False, transform = transform)\n",
    "\n",
    "\n",
    "testloader_mnist = torch.utils.data.DataLoader(testset_mnist, batch_size = args.test_batch_size, shuffle = True)\n",
    "\n",
    "\n",
    "# FashionMNIST: Download and load the training data\n",
    "trainset_fashion = datasets.FashionMNIST('F_MNIST_data/', download=True, train=True, transform=transform)\n",
    "trainloader_fashion = torch.utils.data.DataLoader(trainset_fashion, batch_size=args.test_batch_size, shuffle=True)\n",
    "\n",
    "# Download and load the test data\n",
    "testset_fashion = datasets.FashionMNIST('F_MNIST_data/', download=True, train=False, transform=transform)\n",
    "testloader_fashion = torch.utils.data.DataLoader(testset_fashion, batch_size=args.test_batch_size, shuffle=True)"
   ]
  },
  {
   "cell_type": "code",
   "execution_count": 182,
   "id": "b636273a",
   "metadata": {},
   "outputs": [],
   "source": [
    "#Create an objective of the defined CNN model\n",
    "model = Net()\n",
    "#Set the model in evaluation mode. In this case this is for the Dropout layers\n",
    "#model.eval()\n",
    "\n",
    "#Create an objective \"for attack\" of the defined CNN model\n",
    "#pmodel = Net()\n",
    "#Set the model in evaluation mode. In this case this is for the Dropout layers\n",
    "#pmodel.eval()\n",
    "\n",
    "optimizer = optim.SGD(model.parameters(), lr=args.lr, momentum=0.5)"
   ]
  },
  {
   "cell_type": "code",
   "execution_count": 183,
   "id": "1a8edaaf",
   "metadata": {},
   "outputs": [],
   "source": [
    "#To view image and its prediction\n",
    "def view_classify(img, ps, version=\"MNIST\"):\n",
    "    ps = ps.data.numpy().squeeze() \n",
    "    print('Predict class confidence:',ps)\n",
    "    fig, (ax1, ax2) = plt.subplots(figsize=(6,9), ncols=2)\n",
    "    ax1.imshow(img.resize_(1, 28, 28).numpy().squeeze())\n",
    "    ax1.axis('off')\n",
    "    ax2.barh(np.arange(10), ps)\n",
    "    ax2.set_aspect(0.1)\n",
    "    ax2.set_yticks(np.arange(10))\n",
    "    if version == \"MNIST\":\n",
    "        ax2.set_yticklabels(np.arange(10))\n",
    "    ax2.set_title('Class Probability')\n",
    "    ax2.set_xlim(0, 1.1)\n",
    "    \n",
    "def predict(img):\n",
    "    with torch.no_grad():\n",
    "        logits = model.forward(img)\n",
    "\n",
    "    ps = f.softmax(logits, dim=1)\n",
    "    view_classify(img.view(1, 28, 28), ps)\n",
    "\n",
    "def test_image(img, view = False):\n",
    "    with torch.no_grad():\n",
    "        logits = model.forward(img.float())\n",
    "\n",
    "    ps = f.softmax(logits, dim=1)\n",
    "    _, label = torch.max(ps, 1)\n",
    "    if view:\n",
    "        view_classify(img, ps)\n",
    "    \n",
    "    return label    "
   ]
  },
  {
   "cell_type": "code",
   "execution_count": 184,
   "id": "2251ed23",
   "metadata": {},
   "outputs": [
    {
     "name": "stdout",
     "output_type": "stream",
     "text": [
      "An images from MNIST and FashionMNIST before training the CNN model\n",
      "Predict class confidence: [0.10887852 0.09701745 0.09982552 0.11078748 0.0921651  0.11682634\n",
      " 0.09243121 0.10501523 0.09922107 0.07783213]\n",
      "Predict class confidence: [0.10534811 0.09582923 0.0960803  0.11076964 0.09433842 0.09117828\n",
      " 0.09928401 0.10971936 0.09586739 0.10158526]\n"
     ]
    },
    {
     "data": {
      "image/png": "[encoded data removed]",
      "text/plain": [
       "<Figure size 432x648 with 2 Axes>"
      ]
     },
     "metadata": {
      "needs_background": "light"
     },
     "output_type": "display_data"
    },
    {
     "data": {
      "image/png": "[encoded data removed]",
      "text/plain": [
       "<Figure size 432x648 with 2 Axes>"
      ]
     },
     "metadata": {
      "needs_background": "light"
     },
     "output_type": "display_data"
    }
   ],
   "source": [
    "#checked all downloaded train and test data  \n",
    "print('An images from MNIST and FashionMNIST before training the CNN model')\n",
    "\n",
    "image_mnist, label_mnist = next(iter(testloader_mnist))\n",
    "img = image_mnist[0].unsqueeze(0)\n",
    "predict(img)\n",
    "\n",
    "image_fashion, label_fashion = next(iter(testloader_fashion))\n",
    "img = image_fashion[0].unsqueeze(0)\n",
    "predict(img)"
   ]
  },
  {
   "cell_type": "code",
   "execution_count": 185,
   "id": "60081c4c",
   "metadata": {},
   "outputs": [],
   "source": [
    "# Now Training and testing of the CNN network model\n",
    "optimizer = optim.SGD(model.parameters(), lr=args.lr)\n",
    "\n",
    "    \n",
    "def training(train_loader, epoch):\n",
    "    for batch_idx, (data, target) in enumerate(train_loader):\n",
    " \n",
    "        optimizer.zero_grad()\n",
    "        logits = model.forward(data)\n",
    "        loss = f.nll_loss(logits, target)\n",
    "        loss.backward()\n",
    "        optimizer.step() \n",
    "        if batch_idx % 100 == 0:\n",
    "            print('Train Epoch: {} [{}/{} ({:.0f}%)]\\tLoss: {:.6f}'.format(\n",
    "                epoch, batch_idx * len(data), len(train_loader.dataset),\n",
    "                100. * batch_idx / len(train_loader), loss.item()))"
   ]
  },
  {
   "cell_type": "code",
   "execution_count": 186,
   "id": "e7be9d57",
   "metadata": {},
   "outputs": [
    {
     "name": "stdout",
     "output_type": "stream",
     "text": [
      "Training for MNIST dataset:\n",
      "Train Epoch: 0 [0/60000 (0%)]\tLoss: 2.286983\n",
      "Train Epoch: 0 [3200/60000 (5%)]\tLoss: 1.700990\n",
      "Train Epoch: 0 [6400/60000 (11%)]\tLoss: 0.508227\n",
      "Train Epoch: 0 [9600/60000 (16%)]\tLoss: 0.611448\n",
      "Train Epoch: 0 [12800/60000 (21%)]\tLoss: 0.227956\n",
      "Train Epoch: 0 [16000/60000 (27%)]\tLoss: 0.347500\n",
      "Train Epoch: 0 [19200/60000 (32%)]\tLoss: 0.379761\n",
      "Train Epoch: 0 [22400/60000 (37%)]\tLoss: 0.208458\n",
      "Train Epoch: 0 [25600/60000 (43%)]\tLoss: 0.214923\n",
      "Train Epoch: 0 [28800/60000 (48%)]\tLoss: 0.212152\n",
      "Train Epoch: 0 [32000/60000 (53%)]\tLoss: 0.124254\n",
      "Train Epoch: 0 [35200/60000 (59%)]\tLoss: 0.341568\n",
      "Train Epoch: 0 [38400/60000 (64%)]\tLoss: 0.330778\n",
      "Train Epoch: 0 [41600/60000 (69%)]\tLoss: 0.055404\n",
      "Train Epoch: 0 [44800/60000 (75%)]\tLoss: 0.109505\n",
      "Train Epoch: 0 [48000/60000 (80%)]\tLoss: 0.065185\n",
      "Train Epoch: 0 [51200/60000 (85%)]\tLoss: 0.171727\n",
      "Train Epoch: 0 [54400/60000 (91%)]\tLoss: 0.447721\n",
      "Train Epoch: 0 [57600/60000 (96%)]\tLoss: 0.084604\n",
      "Training for Fashion_MNIST dataset:\n",
      "Train Epoch: 0 [0/60000 (0%)]\tLoss: 3.760986\n",
      "Train Epoch: 0 [12800/60000 (21%)]\tLoss: 0.765140\n",
      "Train Epoch: 0 [25600/60000 (43%)]\tLoss: 0.905356\n",
      "Train Epoch: 0 [38400/60000 (64%)]\tLoss: 0.705925\n",
      "Train Epoch: 0 [51200/60000 (85%)]\tLoss: 0.685417\n",
      "Training for MNIST dataset:\n",
      "Train Epoch: 1 [0/60000 (0%)]\tLoss: 2.031056\n",
      "Train Epoch: 1 [3200/60000 (5%)]\tLoss: 0.233966\n",
      "Train Epoch: 1 [6400/60000 (11%)]\tLoss: 0.021864\n",
      "Train Epoch: 1 [9600/60000 (16%)]\tLoss: 0.114841\n",
      "Train Epoch: 1 [12800/60000 (21%)]\tLoss: 0.164173\n",
      "Train Epoch: 1 [16000/60000 (27%)]\tLoss: 0.055775\n",
      "Train Epoch: 1 [19200/60000 (32%)]\tLoss: 0.272067\n",
      "Train Epoch: 1 [22400/60000 (37%)]\tLoss: 0.159931\n",
      "Train Epoch: 1 [25600/60000 (43%)]\tLoss: 0.149574\n",
      "Train Epoch: 1 [28800/60000 (48%)]\tLoss: 0.092389\n",
      "Train Epoch: 1 [32000/60000 (53%)]\tLoss: 0.180098\n",
      "Train Epoch: 1 [35200/60000 (59%)]\tLoss: 0.137841\n",
      "Train Epoch: 1 [38400/60000 (64%)]\tLoss: 0.020139\n",
      "Train Epoch: 1 [41600/60000 (69%)]\tLoss: 0.068911\n",
      "Train Epoch: 1 [44800/60000 (75%)]\tLoss: 0.220873\n",
      "Train Epoch: 1 [48000/60000 (80%)]\tLoss: 0.012165\n",
      "Train Epoch: 1 [51200/60000 (85%)]\tLoss: 0.019656\n",
      "Train Epoch: 1 [54400/60000 (91%)]\tLoss: 0.093664\n",
      "Train Epoch: 1 [57600/60000 (96%)]\tLoss: 0.073144\n",
      "Training for Fashion_MNIST dataset:\n",
      "Train Epoch: 1 [0/60000 (0%)]\tLoss: 2.179258\n",
      "Train Epoch: 1 [12800/60000 (21%)]\tLoss: 0.609692\n",
      "Train Epoch: 1 [25600/60000 (43%)]\tLoss: 0.628478\n",
      "Train Epoch: 1 [38400/60000 (64%)]\tLoss: 0.615746\n",
      "Train Epoch: 1 [51200/60000 (85%)]\tLoss: 0.582103\n",
      "Training for MNIST dataset:\n",
      "Train Epoch: 2 [0/60000 (0%)]\tLoss: 0.691000\n",
      "Train Epoch: 2 [3200/60000 (5%)]\tLoss: 0.062524\n",
      "Train Epoch: 2 [6400/60000 (11%)]\tLoss: 0.128232\n",
      "Train Epoch: 2 [9600/60000 (16%)]\tLoss: 0.021451\n",
      "Train Epoch: 2 [12800/60000 (21%)]\tLoss: 0.090656\n",
      "Train Epoch: 2 [16000/60000 (27%)]\tLoss: 0.067918\n",
      "Train Epoch: 2 [19200/60000 (32%)]\tLoss: 0.109822\n",
      "Train Epoch: 2 [22400/60000 (37%)]\tLoss: 0.110166\n",
      "Train Epoch: 2 [25600/60000 (43%)]\tLoss: 0.024894\n",
      "Train Epoch: 2 [28800/60000 (48%)]\tLoss: 0.165058\n",
      "Train Epoch: 2 [32000/60000 (53%)]\tLoss: 0.200505\n",
      "Train Epoch: 2 [35200/60000 (59%)]\tLoss: 0.086339\n",
      "Train Epoch: 2 [38400/60000 (64%)]\tLoss: 0.125894\n",
      "Train Epoch: 2 [41600/60000 (69%)]\tLoss: 0.069345\n",
      "Train Epoch: 2 [44800/60000 (75%)]\tLoss: 0.091062\n",
      "Train Epoch: 2 [48000/60000 (80%)]\tLoss: 0.023471\n",
      "Train Epoch: 2 [51200/60000 (85%)]\tLoss: 0.067925\n",
      "Train Epoch: 2 [54400/60000 (91%)]\tLoss: 0.022226\n",
      "Train Epoch: 2 [57600/60000 (96%)]\tLoss: 0.060504\n",
      "Training for Fashion_MNIST dataset:\n",
      "Train Epoch: 2 [0/60000 (0%)]\tLoss: 1.704272\n",
      "Train Epoch: 2 [12800/60000 (21%)]\tLoss: 0.481888\n",
      "Train Epoch: 2 [25600/60000 (43%)]\tLoss: 0.406194\n",
      "Train Epoch: 2 [38400/60000 (64%)]\tLoss: 0.524470\n",
      "Train Epoch: 2 [51200/60000 (85%)]\tLoss: 0.533482\n",
      "Training for MNIST dataset:\n",
      "Train Epoch: 3 [0/60000 (0%)]\tLoss: 0.550773\n",
      "Train Epoch: 3 [3200/60000 (5%)]\tLoss: 0.012040\n",
      "Train Epoch: 3 [6400/60000 (11%)]\tLoss: 0.013722\n",
      "Train Epoch: 3 [9600/60000 (16%)]\tLoss: 0.032418\n",
      "Train Epoch: 3 [12800/60000 (21%)]\tLoss: 0.007052\n",
      "Train Epoch: 3 [16000/60000 (27%)]\tLoss: 0.024251\n",
      "Train Epoch: 3 [19200/60000 (32%)]\tLoss: 0.069115\n",
      "Train Epoch: 3 [22400/60000 (37%)]\tLoss: 0.027037\n",
      "Train Epoch: 3 [25600/60000 (43%)]\tLoss: 0.039017\n",
      "Train Epoch: 3 [28800/60000 (48%)]\tLoss: 0.116004\n",
      "Train Epoch: 3 [32000/60000 (53%)]\tLoss: 0.010864\n",
      "Train Epoch: 3 [35200/60000 (59%)]\tLoss: 0.038281\n",
      "Train Epoch: 3 [38400/60000 (64%)]\tLoss: 0.023944\n",
      "Train Epoch: 3 [41600/60000 (69%)]\tLoss: 0.076879\n",
      "Train Epoch: 3 [44800/60000 (75%)]\tLoss: 0.052326\n",
      "Train Epoch: 3 [48000/60000 (80%)]\tLoss: 0.059972\n",
      "Train Epoch: 3 [51200/60000 (85%)]\tLoss: 0.019406\n",
      "Train Epoch: 3 [54400/60000 (91%)]\tLoss: 0.108197\n",
      "Train Epoch: 3 [57600/60000 (96%)]\tLoss: 0.138114\n",
      "Training for Fashion_MNIST dataset:\n",
      "Train Epoch: 3 [0/60000 (0%)]\tLoss: 1.374168\n",
      "Train Epoch: 3 [12800/60000 (21%)]\tLoss: 0.490963\n",
      "Train Epoch: 3 [25600/60000 (43%)]\tLoss: 0.594202\n",
      "Train Epoch: 3 [38400/60000 (64%)]\tLoss: 0.372148\n",
      "Train Epoch: 3 [51200/60000 (85%)]\tLoss: 0.461915\n",
      "Training for MNIST dataset:\n",
      "Train Epoch: 4 [0/60000 (0%)]\tLoss: 0.682488\n",
      "Train Epoch: 4 [3200/60000 (5%)]\tLoss: 0.011515\n",
      "Train Epoch: 4 [6400/60000 (11%)]\tLoss: 0.062606\n",
      "Train Epoch: 4 [9600/60000 (16%)]\tLoss: 0.045290\n",
      "Train Epoch: 4 [12800/60000 (21%)]\tLoss: 0.082810\n",
      "Train Epoch: 4 [16000/60000 (27%)]\tLoss: 0.029820\n",
      "Train Epoch: 4 [19200/60000 (32%)]\tLoss: 0.004687\n",
      "Train Epoch: 4 [22400/60000 (37%)]\tLoss: 0.028627\n",
      "Train Epoch: 4 [25600/60000 (43%)]\tLoss: 0.104080\n",
      "Train Epoch: 4 [28800/60000 (48%)]\tLoss: 0.042537\n",
      "Train Epoch: 4 [32000/60000 (53%)]\tLoss: 0.022950\n",
      "Train Epoch: 4 [35200/60000 (59%)]\tLoss: 0.016726\n",
      "Train Epoch: 4 [38400/60000 (64%)]\tLoss: 0.039030\n",
      "Train Epoch: 4 [41600/60000 (69%)]\tLoss: 0.026912\n",
      "Train Epoch: 4 [44800/60000 (75%)]\tLoss: 0.015742\n",
      "Train Epoch: 4 [48000/60000 (80%)]\tLoss: 0.007157\n",
      "Train Epoch: 4 [51200/60000 (85%)]\tLoss: 0.006078\n",
      "Train Epoch: 4 [54400/60000 (91%)]\tLoss: 0.083606\n",
      "Train Epoch: 4 [57600/60000 (96%)]\tLoss: 0.084713\n",
      "Training for Fashion_MNIST dataset:\n",
      "Train Epoch: 4 [0/60000 (0%)]\tLoss: 1.244723\n",
      "Train Epoch: 4 [12800/60000 (21%)]\tLoss: 0.528228\n",
      "Train Epoch: 4 [25600/60000 (43%)]\tLoss: 0.369643\n",
      "Train Epoch: 4 [38400/60000 (64%)]\tLoss: 0.455633\n",
      "Train Epoch: 4 [51200/60000 (85%)]\tLoss: 0.468930\n",
      "Training for MNIST dataset:\n",
      "Train Epoch: 5 [0/60000 (0%)]\tLoss: 0.640186\n",
      "Train Epoch: 5 [3200/60000 (5%)]\tLoss: 0.002482\n",
      "Train Epoch: 5 [6400/60000 (11%)]\tLoss: 0.144985\n",
      "Train Epoch: 5 [9600/60000 (16%)]\tLoss: 0.005314\n",
      "Train Epoch: 5 [12800/60000 (21%)]\tLoss: 0.198031\n",
      "Train Epoch: 5 [16000/60000 (27%)]\tLoss: 0.030342\n",
      "Train Epoch: 5 [19200/60000 (32%)]\tLoss: 0.022823\n",
      "Train Epoch: 5 [22400/60000 (37%)]\tLoss: 0.007393\n",
      "Train Epoch: 5 [25600/60000 (43%)]\tLoss: 0.200979\n",
      "Train Epoch: 5 [28800/60000 (48%)]\tLoss: 0.003930\n",
      "Train Epoch: 5 [32000/60000 (53%)]\tLoss: 0.064924\n",
      "Train Epoch: 5 [35200/60000 (59%)]\tLoss: 0.053726\n",
      "Train Epoch: 5 [38400/60000 (64%)]\tLoss: 0.084202\n",
      "Train Epoch: 5 [41600/60000 (69%)]\tLoss: 0.120306\n",
      "Train Epoch: 5 [44800/60000 (75%)]\tLoss: 0.002376\n",
      "Train Epoch: 5 [48000/60000 (80%)]\tLoss: 0.057687\n",
      "Train Epoch: 5 [51200/60000 (85%)]\tLoss: 0.033274\n",
      "Train Epoch: 5 [54400/60000 (91%)]\tLoss: 0.183657\n",
      "Train Epoch: 5 [57600/60000 (96%)]\tLoss: 0.058489\n",
      "Training for Fashion_MNIST dataset:\n",
      "Train Epoch: 5 [0/60000 (0%)]\tLoss: 1.193144\n",
      "Train Epoch: 5 [12800/60000 (21%)]\tLoss: 0.375028\n",
      "Train Epoch: 5 [25600/60000 (43%)]\tLoss: 0.380881\n",
      "Train Epoch: 5 [38400/60000 (64%)]\tLoss: 0.411233\n",
      "Train Epoch: 5 [51200/60000 (85%)]\tLoss: 0.312400\n",
      "Training for MNIST dataset:\n",
      "Train Epoch: 6 [0/60000 (0%)]\tLoss: 0.266474\n",
      "Train Epoch: 6 [3200/60000 (5%)]\tLoss: 0.049902\n",
      "Train Epoch: 6 [6400/60000 (11%)]\tLoss: 0.070929\n",
      "Train Epoch: 6 [9600/60000 (16%)]\tLoss: 0.004361\n",
      "Train Epoch: 6 [12800/60000 (21%)]\tLoss: 0.003057\n",
      "Train Epoch: 6 [16000/60000 (27%)]\tLoss: 0.006103\n",
      "Train Epoch: 6 [19200/60000 (32%)]\tLoss: 0.039432\n",
      "Train Epoch: 6 [22400/60000 (37%)]\tLoss: 0.008254\n",
      "Train Epoch: 6 [25600/60000 (43%)]\tLoss: 0.020582\n",
      "Train Epoch: 6 [28800/60000 (48%)]\tLoss: 0.004532\n",
      "Train Epoch: 6 [32000/60000 (53%)]\tLoss: 0.003398\n",
      "Train Epoch: 6 [35200/60000 (59%)]\tLoss: 0.013631\n",
      "Train Epoch: 6 [38400/60000 (64%)]\tLoss: 0.017701\n",
      "Train Epoch: 6 [41600/60000 (69%)]\tLoss: 0.025343\n"
     ]
    },
    {
     "name": "stdout",
     "output_type": "stream",
     "text": [
      "Train Epoch: 6 [44800/60000 (75%)]\tLoss: 0.058720\n",
      "Train Epoch: 6 [48000/60000 (80%)]\tLoss: 0.017831\n",
      "Train Epoch: 6 [51200/60000 (85%)]\tLoss: 0.003757\n",
      "Train Epoch: 6 [54400/60000 (91%)]\tLoss: 0.140057\n",
      "Train Epoch: 6 [57600/60000 (96%)]\tLoss: 0.015644\n",
      "Training for Fashion_MNIST dataset:\n",
      "Train Epoch: 6 [0/60000 (0%)]\tLoss: 0.612541\n",
      "Train Epoch: 6 [12800/60000 (21%)]\tLoss: 0.414111\n",
      "Train Epoch: 6 [25600/60000 (43%)]\tLoss: 0.383554\n",
      "Train Epoch: 6 [38400/60000 (64%)]\tLoss: 0.383409\n",
      "Train Epoch: 6 [51200/60000 (85%)]\tLoss: 0.439056\n",
      "Training for MNIST dataset:\n",
      "Train Epoch: 7 [0/60000 (0%)]\tLoss: 0.067163\n",
      "Train Epoch: 7 [3200/60000 (5%)]\tLoss: 0.010721\n",
      "Train Epoch: 7 [6400/60000 (11%)]\tLoss: 0.072457\n",
      "Train Epoch: 7 [9600/60000 (16%)]\tLoss: 0.007734\n",
      "Train Epoch: 7 [12800/60000 (21%)]\tLoss: 0.034366\n",
      "Train Epoch: 7 [16000/60000 (27%)]\tLoss: 0.001565\n",
      "Train Epoch: 7 [19200/60000 (32%)]\tLoss: 0.023359\n",
      "Train Epoch: 7 [22400/60000 (37%)]\tLoss: 0.003261\n",
      "Train Epoch: 7 [25600/60000 (43%)]\tLoss: 0.015285\n",
      "Train Epoch: 7 [28800/60000 (48%)]\tLoss: 0.050697\n",
      "Train Epoch: 7 [32000/60000 (53%)]\tLoss: 0.013258\n",
      "Train Epoch: 7 [35200/60000 (59%)]\tLoss: 0.027264\n",
      "Train Epoch: 7 [38400/60000 (64%)]\tLoss: 0.025367\n",
      "Train Epoch: 7 [41600/60000 (69%)]\tLoss: 0.036018\n",
      "Train Epoch: 7 [44800/60000 (75%)]\tLoss: 0.004146\n",
      "Train Epoch: 7 [48000/60000 (80%)]\tLoss: 0.005692\n",
      "Train Epoch: 7 [51200/60000 (85%)]\tLoss: 0.018356\n",
      "Train Epoch: 7 [54400/60000 (91%)]\tLoss: 0.006432\n",
      "Train Epoch: 7 [57600/60000 (96%)]\tLoss: 0.004262\n",
      "Training for Fashion_MNIST dataset:\n",
      "Train Epoch: 7 [0/60000 (0%)]\tLoss: 0.939232\n",
      "Train Epoch: 7 [12800/60000 (21%)]\tLoss: 0.318334\n",
      "Train Epoch: 7 [25600/60000 (43%)]\tLoss: 0.444948\n",
      "Train Epoch: 7 [38400/60000 (64%)]\tLoss: 0.587773\n",
      "Train Epoch: 7 [51200/60000 (85%)]\tLoss: 0.409368\n",
      "Training for MNIST dataset:\n",
      "Train Epoch: 8 [0/60000 (0%)]\tLoss: 0.085982\n",
      "Train Epoch: 8 [3200/60000 (5%)]\tLoss: 0.030306\n",
      "Train Epoch: 8 [6400/60000 (11%)]\tLoss: 0.017744\n",
      "Train Epoch: 8 [9600/60000 (16%)]\tLoss: 0.008421\n",
      "Train Epoch: 8 [12800/60000 (21%)]\tLoss: 0.051561\n",
      "Train Epoch: 8 [16000/60000 (27%)]\tLoss: 0.007505\n",
      "Train Epoch: 8 [19200/60000 (32%)]\tLoss: 0.062557\n",
      "Train Epoch: 8 [22400/60000 (37%)]\tLoss: 0.105722\n",
      "Train Epoch: 8 [25600/60000 (43%)]\tLoss: 0.008644\n",
      "Train Epoch: 8 [28800/60000 (48%)]\tLoss: 0.093863\n",
      "Train Epoch: 8 [32000/60000 (53%)]\tLoss: 0.009326\n",
      "Train Epoch: 8 [35200/60000 (59%)]\tLoss: 0.126589\n",
      "Train Epoch: 8 [38400/60000 (64%)]\tLoss: 0.029149\n",
      "Train Epoch: 8 [41600/60000 (69%)]\tLoss: 0.068654\n",
      "Train Epoch: 8 [44800/60000 (75%)]\tLoss: 0.026920\n",
      "Train Epoch: 8 [48000/60000 (80%)]\tLoss: 0.015190\n",
      "Train Epoch: 8 [51200/60000 (85%)]\tLoss: 0.011747\n",
      "Train Epoch: 8 [54400/60000 (91%)]\tLoss: 0.014868\n",
      "Train Epoch: 8 [57600/60000 (96%)]\tLoss: 0.009597\n",
      "Training for Fashion_MNIST dataset:\n",
      "Train Epoch: 8 [0/60000 (0%)]\tLoss: 0.848415\n",
      "Train Epoch: 8 [12800/60000 (21%)]\tLoss: 0.323020\n",
      "Train Epoch: 8 [25600/60000 (43%)]\tLoss: 0.292595\n",
      "Train Epoch: 8 [38400/60000 (64%)]\tLoss: 0.416331\n",
      "Train Epoch: 8 [51200/60000 (85%)]\tLoss: 0.421853\n",
      "Training for MNIST dataset:\n",
      "Train Epoch: 9 [0/60000 (0%)]\tLoss: 0.099657\n",
      "Train Epoch: 9 [3200/60000 (5%)]\tLoss: 0.080126\n",
      "Train Epoch: 9 [6400/60000 (11%)]\tLoss: 0.021452\n",
      "Train Epoch: 9 [9600/60000 (16%)]\tLoss: 0.039209\n",
      "Train Epoch: 9 [12800/60000 (21%)]\tLoss: 0.007498\n",
      "Train Epoch: 9 [16000/60000 (27%)]\tLoss: 0.012091\n",
      "Train Epoch: 9 [19200/60000 (32%)]\tLoss: 0.005400\n",
      "Train Epoch: 9 [22400/60000 (37%)]\tLoss: 0.028607\n",
      "Train Epoch: 9 [25600/60000 (43%)]\tLoss: 0.006453\n",
      "Train Epoch: 9 [28800/60000 (48%)]\tLoss: 0.084232\n",
      "Train Epoch: 9 [32000/60000 (53%)]\tLoss: 0.005389\n",
      "Train Epoch: 9 [35200/60000 (59%)]\tLoss: 0.000936\n",
      "Train Epoch: 9 [38400/60000 (64%)]\tLoss: 0.031537\n",
      "Train Epoch: 9 [41600/60000 (69%)]\tLoss: 0.165522\n",
      "Train Epoch: 9 [44800/60000 (75%)]\tLoss: 0.019317\n",
      "Train Epoch: 9 [48000/60000 (80%)]\tLoss: 0.013733\n",
      "Train Epoch: 9 [51200/60000 (85%)]\tLoss: 0.020342\n",
      "Train Epoch: 9 [54400/60000 (91%)]\tLoss: 0.113631\n",
      "Train Epoch: 9 [57600/60000 (96%)]\tLoss: 0.006176\n",
      "Training for Fashion_MNIST dataset:\n",
      "Train Epoch: 9 [0/60000 (0%)]\tLoss: 0.736699\n",
      "Train Epoch: 9 [12800/60000 (21%)]\tLoss: 0.382404\n",
      "Train Epoch: 9 [25600/60000 (43%)]\tLoss: 0.467167\n",
      "Train Epoch: 9 [38400/60000 (64%)]\tLoss: 0.331875\n",
      "Train Epoch: 9 [51200/60000 (85%)]\tLoss: 0.315116\n"
     ]
    }
   ],
   "source": [
    "for e in range(10):\n",
    "    running_loss = 0\n",
    "    count_batch=0\n",
    "    print('Training for MNIST dataset:')\n",
    "    training(trainloader_mnist,e)\n",
    "    print('Training for Fashion_MNIST dataset:')\n",
    "    training(trainloader_fashion,e)"
   ]
  },
  {
   "cell_type": "code",
   "execution_count": 187,
   "id": "25d3af0d",
   "metadata": {},
   "outputs": [
    {
     "name": "stdout",
     "output_type": "stream",
     "text": [
      "An images from MNIST and FashionMNIST after training the CNN model\n",
      "Predict class confidence: [4.3091066e-03 1.0761557e-06 1.3547734e-04 2.3824339e-06 1.2696307e-06\n",
      " 1.0066007e-02 2.1115620e-05 7.2425668e-05 9.8533773e-01 5.3453630e-05]\n",
      "Predict class confidence: [9.4878870e-01 5.0471056e-07 3.1126805e-05 6.6289358e-04 2.0552627e-06\n",
      " 1.3609264e-06 5.0492849e-02 6.8937744e-09 2.0579135e-05 2.5474998e-09]\n"
     ]
    },
    {
     "data": {
      "image/png": "[encoded data removed]",
      "text/plain": [
       "<Figure size 432x648 with 2 Axes>"
      ]
     },
     "metadata": {
      "needs_background": "light"
     },
     "output_type": "display_data"
    },
    {
     "data": {
      "image/png": "[encoded data removed]",
      "text/plain": [
       "<Figure size 432x648 with 2 Axes>"
      ]
     },
     "metadata": {
      "needs_background": "light"
     },
     "output_type": "display_data"
    }
   ],
   "source": [
    "#checked all downloaded train and test data  \n",
    "print('An images from MNIST and FashionMNIST after training the CNN model')\n",
    "\n",
    "image_mnist, label_mnist = next(iter(testloader_mnist))\n",
    "img5 = image_mnist[0].unsqueeze(0)\n",
    "predict(img5)\n",
    "\n",
    "image_fashion, label_fashion = next(iter(testloader_fashion))\n",
    "img = image_fashion[0].unsqueeze(0)\n",
    "predict(img)"
   ]
  },
  {
   "cell_type": "code",
   "execution_count": 236,
   "id": "55a3c403",
   "metadata": {},
   "outputs": [],
   "source": [
    "##***** ABC_Algo\n",
    "import random\n",
    "\n",
    "def abc_conf_metric(img, label, e):\n",
    "    score, numerator, denominator, probability = 0, 0, 0, 0\n",
    "\n",
    "    \n",
    "    #Line1: Find attribute of each image pixcel   \n",
    "    shap_values = e.shap_values(img) #computes attribute value for each class (feature 0 to 9)\n",
    "    \n",
    "    #Line2: Obtain model prediction\n",
    "    #print(\"Original Label\", org_label)\n",
    "    #Line3 to 5:\n",
    "    #step1: compute denominator of the probability for each class (feature 0 to 9)\n",
    "    s_img = shap_values[label]\n",
    "\n",
    "    for p, batch in enumerate(s_img): \n",
    "        for q, channel in enumerate(batch):\n",
    "            for r, row in enumerate(channel):\n",
    "                for s, col in enumerate(row):\n",
    "                    pixcel= img[p][q][r][s]\n",
    "                    #store denominator for each class\n",
    "                    if pixcel!= 0:\n",
    "                        denominator += abs(s_img[p][q][r][s] / pixcel) \n",
    "\n",
    "    t_img = img.detach().clone()\n",
    "    changed_attrs, pixcel_count = 0, 0\n",
    "    for q, channel in enumerate(batch):\n",
    "        for r, row in enumerate(channel):\n",
    "            for s, col in enumerate(row):\n",
    "                pixcel= t_img[p][q][r][s]\n",
    "                pixcel_count +=1\n",
    "                if pixcel!= 0:\n",
    "                    #probability= abs((iset[p][q][r][s]/ t_img[p][q][r][s]))/denominator[d_index]\n",
    "                    probability= abs((s_img[p][q][r][s]/ pixcel)) / denominator\n",
    "\n",
    "                if probability > 0.005:\n",
    "                    changed_attrs = changed_attrs + 1\n",
    "                    #t_img[p][q][r][s] = random.uniform(-1, 1)\n",
    "                    t_img[p][q][r][s] = 0 \n",
    "                    # Test for the mutated images\n",
    "                    mutated_label = test_image(t_img) \n",
    "                    #print(label, mutated_label[0])\n",
    "                    if label == mutated_label[0]:\n",
    "                        score += 1 \n",
    "\n",
    "    print(changed_attrs)\n",
    "    if changed_attrs !=0:\n",
    "        score /= changed_attrs\n",
    "        \n",
    "    return score, t_img"
   ]
  },
  {
   "cell_type": "code",
   "execution_count": 237,
   "id": "2b19c4b9",
   "metadata": {},
   "outputs": [],
   "source": [
    "#Deep explainer for ABC algo\n",
    "# A random sample of test data of MNIST\n",
    "batch = next(iter(testloader_mnist))\n",
    "images, labels = batch\n",
    "baseline = images\n",
    "shap_attr = shap.DeepExplainer(model, baseline)"
   ]
  },
  {
   "cell_type": "code",
   "execution_count": 190,
   "id": "3aa39112",
   "metadata": {},
   "outputs": [
    {
     "name": "stdout",
     "output_type": "stream",
     "text": [
      "tensor(9)\n",
      "---------\n",
      "365\n",
      "0.0547945205479452\n",
      "CPU times: user 41 s, sys: 2.72 s, total: 43.7 s\n",
      "Wall time: 878 ms\n"
     ]
    }
   ],
   "source": [
    "%%time\n",
    "#test for an image\n",
    "batch = next(iter(testloader_mnist))\n",
    "data, target = batch\n",
    "print (target[0])\n",
    "print ('---------')\n",
    "img = data[0].view(1, 1, 28, 28)\n",
    "print (abc_conf_metric(img5, 5, shap_attr))"
   ]
  },
  {
   "cell_type": "markdown",
   "id": "2892fcfb",
   "metadata": {},
   "source": [
    "# FGSM"
   ]
  },
  {
   "cell_type": "code",
   "execution_count": 191,
   "id": "cca3ca49",
   "metadata": {},
   "outputs": [],
   "source": [
    "# FGSM attack code\n",
    "def fgsm_attack(image, epsilon, data_grad):\n",
    "    # Collect the element-wise sign of the data gradient\n",
    "    sign_data_grad = data_grad.sign()\n",
    "    # Create the perturbed image by adjusting each pixel of the input image\n",
    "    perturbed_image = image + epsilon*sign_data_grad\n",
    "    # Adding clipping to maintain [0,1] range\n",
    "    perturbed_image = torch.clamp(perturbed_image, 0, 1)\n",
    "    # Return the perturbed image\n",
    "    return perturbed_image"
   ]
  },
  {
   "cell_type": "code",
   "execution_count": 192,
   "id": "fc910699",
   "metadata": {},
   "outputs": [],
   "source": [
    "def pgd_attack(images, epsilon, alpha, data_grad) :\n",
    "    sign_data_grad = data_grad.sign()\n",
    "    ori_images = images.data\n",
    "    #adv_images = images + alpha *images.grad.sign()\n",
    "    adv_images = images + alpha *sign_data_grad\n",
    "    eta = torch.clamp(adv_images - ori_images, min=-epsilon, max=epsilon)\n",
    "    images = torch.clamp(ori_images + eta, min=0, max=1).detach_()\n",
    "            \n",
    "    return images"
   ]
  },
  {
   "cell_type": "code",
   "execution_count": 193,
   "id": "675cae38",
   "metadata": {},
   "outputs": [],
   "source": [
    "epsilons = [0, .05, .1, .15, .2, .25, .3]\n",
    "alpha=2/255"
   ]
  },
  {
   "cell_type": "code",
   "execution_count": 194,
   "id": "c4ae6b6b",
   "metadata": {},
   "outputs": [
    {
     "name": "stdout",
     "output_type": "stream",
     "text": [
      "tensor(5)\n",
      "---------\n"
     ]
    }
   ],
   "source": [
    "#test for an image\n",
    "batch = next(iter(testloader_mnist))\n",
    "data, target = batch\n",
    "data.requires_grad = True\n",
    "img5 = data[0].view(1, 1, 28, 28)\n",
    "print (target[0])\n",
    "print ('---------')"
   ]
  },
  {
   "cell_type": "code",
   "execution_count": 195,
   "id": "2e8e84e3",
   "metadata": {},
   "outputs": [],
   "source": [
    "output = model.forward(data)\n",
    "# Calculate the loss\n",
    "loss = f.nll_loss(output, target)\n",
    "# Zero all existing gradients\n",
    "model.zero_grad()\n",
    "# Calculate gradients of model in backward pass\n",
    "loss.backward()\n",
    "# Collect datagrad\n",
    "data_grad = data.grad.data\n"
   ]
  },
  {
   "cell_type": "code",
   "execution_count": 196,
   "id": "0e10e8ec",
   "metadata": {},
   "outputs": [
    {
     "name": "stdout",
     "output_type": "stream",
     "text": [
      "CPU times: user 58.3 ms, sys: 1.08 ms, total: 59.4 ms\n",
      "Wall time: 1.24 ms\n"
     ]
    }
   ],
   "source": [
    "%%time\n",
    "pgd_img = pgd_attack(img5, 1000, alpha, data_grad)"
   ]
  },
  {
   "cell_type": "code",
   "execution_count": 197,
   "id": "f07d1a05",
   "metadata": {},
   "outputs": [
    {
     "name": "stdout",
     "output_type": "stream",
     "text": [
      "CPU times: user 40.4 ms, sys: 1.44 ms, total: 41.9 ms\n",
      "Wall time: 1.08 ms\n"
     ]
    }
   ],
   "source": [
    "%%time\n",
    "fgsm_img = fgsm_attack(img5, epsilons[6], data_grad)"
   ]
  },
  {
   "cell_type": "code",
   "execution_count": 198,
   "id": "6a964302",
   "metadata": {},
   "outputs": [],
   "source": [
    "def predict(model, img, view = True):\n",
    "    with torch.no_grad():\n",
    "        logits = model.forward(img)\n",
    "\n",
    "    ps = f.softmax(logits, dim=1)\n",
    "    if view:\n",
    "        view_classify(img.view(1, 28, 28), ps)\n",
    "    \n",
    "    _, label = torch.max(ps, 1)\n",
    "    return label"
   ]
  },
  {
   "cell_type": "code",
   "execution_count": 199,
   "id": "e642dfc9",
   "metadata": {},
   "outputs": [],
   "source": [
    "for img in pgd_img:\n",
    "    lbl = predict(model, img.unsqueeze(0), False)\n",
    "    if lbl != 5:\n",
    "        print(lbl)\n",
    "    "
   ]
  },
  {
   "cell_type": "code",
   "execution_count": 200,
   "id": "251362ea",
   "metadata": {},
   "outputs": [],
   "source": [
    "for img in fgsm_img:\n",
    "    lbl = predict(model, img.unsqueeze(0), False)\n",
    "    if lbl != 5:\n",
    "        print(lbl)\n",
    "    "
   ]
  },
  {
   "cell_type": "code",
   "execution_count": 209,
   "id": "88cbf2d3",
   "metadata": {},
   "outputs": [
    {
     "data": {
      "text/plain": [
       "<AxesSubplot:>"
      ]
     },
     "execution_count": 209,
     "metadata": {},
     "output_type": "execute_result"
    },
    {
     "data": {
      "image/png": "[encoded data removed]",
      "text/plain": [
       "<Figure size 432x288 with 1 Axes>"
      ]
     },
     "metadata": {
      "needs_background": "light"
     },
     "output_type": "display_data"
    }
   ],
   "source": [
    "helper.imshow(pgd_img[100].detach())"
   ]
  },
  {
   "cell_type": "code",
   "execution_count": 238,
   "id": "1eda5bcc",
   "metadata": {},
   "outputs": [
    {
     "name": "stdout",
     "output_type": "stream",
     "text": [
      "47\n"
     ]
    }
   ],
   "source": [
    "score, timg = abc_conf_metric(img5, 5, shap_attr)"
   ]
  },
  {
   "cell_type": "code",
   "execution_count": 239,
   "id": "3b86beb1",
   "metadata": {},
   "outputs": [
    {
     "name": "stdout",
     "output_type": "stream",
     "text": [
      "torch.Size([1, 1, 28, 28])\n"
     ]
    }
   ],
   "source": [
    "print(timg.shape)"
   ]
  },
  {
   "cell_type": "code",
   "execution_count": 240,
   "id": "b89e5601",
   "metadata": {},
   "outputs": [
    {
     "data": {
      "text/plain": [
       "<AxesSubplot:>"
      ]
     },
     "execution_count": 240,
     "metadata": {},
     "output_type": "execute_result"
    },
    {
     "data": {
      "image/png": "[encoded data removed]",
      "text/plain": [
       "<Figure size 432x288 with 1 Axes>"
      ]
     },
     "metadata": {
      "needs_background": "light"
     },
     "output_type": "display_data"
    }
   ],
   "source": [
    "helper.imshow(timg.squeeze(0))"
   ]
  },
  {
   "cell_type": "code",
   "execution_count": null,
   "id": "252409f0",
   "metadata": {},
   "outputs": [],
   "source": []
  }
 ],
 "metadata": {
  "kernelspec": {
   "display_name": "Python [conda env:root] *",
   "language": "python",
   "name": "conda-root-py"
  },
  "language_info": {
   "codemirror_mode": {
    "name": "ipython",
    "version": 3
   },
   "file_extension": ".py",
   "mimetype": "text/x-python",
   "name": "python",
   "nbconvert_exporter": "python",
   "pygments_lexer": "ipython3",
   "version": "3.8.8"
  }
 },
 "nbformat": 4,
 "nbformat_minor": 5
}
