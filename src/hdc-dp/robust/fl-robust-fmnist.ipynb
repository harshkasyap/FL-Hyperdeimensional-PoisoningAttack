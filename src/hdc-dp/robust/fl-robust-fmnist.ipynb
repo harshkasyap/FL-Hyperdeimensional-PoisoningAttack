{
 "cells": [
  {
   "cell_type": "code",
   "execution_count": 35,
   "id": "c2eef813",
   "metadata": {},
   "outputs": [
    {
     "name": "stdout",
     "output_type": "stream",
     "text": [
      "The autoreload extension is already loaded. To reload it, use:\n",
      "  %reload_ext autoreload\n"
     ]
    }
   ],
   "source": [
    "%load_ext autoreload\n",
    "%autoreload 2"
   ]
  },
  {
   "cell_type": "code",
   "execution_count": 36,
   "id": "875c2e22",
   "metadata": {},
   "outputs": [],
   "source": [
    "import os, sys, torch\n",
    "sys.path.insert(0, os.path.abspath(os.path.join(os.getcwd(), \"../../../\")))\n",
    "from libs import data, hdc, helper, nn, poison\n",
    "from cfgs.fedargs import *"
   ]
  },
  {
   "cell_type": "code",
   "execution_count": 37,
   "id": "2c8f4de8",
   "metadata": {},
   "outputs": [],
   "source": [
    "use_cuda = fedargs.cuda and torch.cuda.is_available()\n",
    "torch.manual_seed(fedargs.seed)\n",
    "device = torch.device(\"cuda\" if use_cuda else \"cpu\")\n",
    "kwargs = {\"num_workers\": 1, \"pin_memory\": True} if use_cuda else {}"
   ]
  },
  {
   "cell_type": "code",
   "execution_count": 38,
   "id": "fe44c400",
   "metadata": {},
   "outputs": [],
   "source": [
    "fedargs.dataset = 'fmnist'\n",
    "train_data, test_data = data.load_dataset(fedargs.dataset, only_to_tensor = True)\n",
    "train_loader = torch.utils.data.DataLoader(train_data, batch_size=len(train_data), shuffle=True, **kwargs)\n",
    "test_loader = torch.utils.data.DataLoader(test_data, batch_size=len(test_data), shuffle=True, **kwargs)"
   ]
  },
  {
   "cell_type": "code",
   "execution_count": 39,
   "id": "3d557f0d",
   "metadata": {},
   "outputs": [],
   "source": [
    "fedargs.model = hdc.HDC(fedargs.one_d_len, fedargs.hdc_proj_len, len(fedargs.labels), device)"
   ]
  },
  {
   "cell_type": "code",
   "execution_count": 40,
   "id": "4a585d75",
   "metadata": {},
   "outputs": [],
   "source": [
    "# Train    \n",
    "train_acc = fedargs.model.train(train_loader, device)\n",
    "#fedargs.model.load_state_dict(torch.load('hdc.pth'))"
   ]
  },
  {
   "cell_type": "code",
   "execution_count": 41,
   "id": "89855a42",
   "metadata": {},
   "outputs": [],
   "source": [
    "# Test, Plot and Log\n",
    "test_acc = fedargs.model.test(test_loader, device)"
   ]
  },
  {
   "cell_type": "code",
   "execution_count": 42,
   "id": "bb75b1a4",
   "metadata": {},
   "outputs": [
    {
     "name": "stdout",
     "output_type": "stream",
     "text": [
      "66.18000030517578\n"
     ]
    }
   ],
   "source": [
    "#print(train_acc, test_acc)\n",
    "print(test_acc)"
   ]
  },
  {
   "cell_type": "code",
   "execution_count": 43,
   "id": "9aea298f",
   "metadata": {},
   "outputs": [],
   "source": [
    "hdc_train_vectors = fedargs.model.train_vectors"
   ]
  },
  {
   "cell_type": "code",
   "execution_count": 44,
   "id": "477f5227",
   "metadata": {},
   "outputs": [
    {
     "data": {
      "text/plain": [
       "tensor([[757532.1875, 762289.8125, 766761.5625,  ..., 783198.5000,\n",
       "         769961.7500, 766521.4375],\n",
       "        [523049.4688, 520762.9062, 513555.4688,  ..., 528807.8750,\n",
       "         520643.3125, 530514.6250],\n",
       "        [870600.3125, 879480.7500, 897930.0000,  ..., 901354.8750,\n",
       "         884390.3125, 882305.9375],\n",
       "        ...,\n",
       "        [379015.3438, 394346.1875, 380232.6562,  ..., 401684.5000,\n",
       "         369939.2188, 384932.5938],\n",
       "        [826839.6875, 815530.0625, 831551.3750,  ..., 844027.9375,\n",
       "         817115.9375, 818017.8125],\n",
       "        [719231.0625, 702858.1250, 702974.5000,  ..., 703490.3750,\n",
       "         699718.1875, 694143.5625]])"
      ]
     },
     "execution_count": 44,
     "metadata": {},
     "output_type": "execute_result"
    }
   ],
   "source": [
    "hdc_train_vectors"
   ]
  },
  {
   "cell_type": "code",
   "execution_count": 45,
   "id": "7db01bd7",
   "metadata": {},
   "outputs": [],
   "source": [
    "model = nn.ModelMNIST()"
   ]
  },
  {
   "cell_type": "code",
   "execution_count": 46,
   "id": "caf96e79",
   "metadata": {},
   "outputs": [],
   "source": [
    "train_loader = torch.utils.data.DataLoader(train_data, batch_size=128, shuffle=True, **kwargs)\n",
    "test_loader = torch.utils.data.DataLoader(test_data, batch_size=1024, shuffle=True, **kwargs)"
   ]
  },
  {
   "cell_type": "code",
   "execution_count": 47,
   "id": "522d7467",
   "metadata": {},
   "outputs": [
    {
     "data": {
      "text/plain": [
       "ModelMNIST(\n",
       "  (conv1): Conv2d(1, 32, kernel_size=(3, 3), stride=(1, 1))\n",
       "  (conv2): Conv2d(32, 64, kernel_size=(3, 3), stride=(1, 1))\n",
       "  (dropout1): Dropout2d(p=0.25, inplace=False)\n",
       "  (dropout2): Dropout2d(p=0.5, inplace=False)\n",
       "  (fc1): Linear(in_features=9216, out_features=128, bias=True)\n",
       "  (fc2): Linear(in_features=128, out_features=10, bias=True)\n",
       ")"
      ]
     },
     "execution_count": 47,
     "metadata": {},
     "output_type": "execute_result"
    }
   ],
   "source": [
    "'''\n",
    "# Train\n",
    "from tqdm import tqdm\n",
    "\n",
    "fedargs.epochs = 5\n",
    "fedargs.local_rounds = 1\n",
    "for epoch in tqdm(range(fedargs.epochs)):\n",
    "    _, model, loss = fedargs.train_func(model, train_loader, \n",
    "                                        fedargs.learning_rate,\n",
    "                                        fedargs.weight_decay,\n",
    "                                        fedargs.local_rounds, device)\n",
    "torch.save(model.state_dict(), 'nn.pth')                                        \n",
    "'''\n",
    "model.load_state_dict(torch.load('nn-fm.pth'))\n",
    "model.eval()"
   ]
  },
  {
   "cell_type": "code",
   "execution_count": 48,
   "id": "1d410e53",
   "metadata": {},
   "outputs": [
    {
     "name": "stdout",
     "output_type": "stream",
     "text": [
      "{'test_loss': 0.35231710205078126, 'correct': 8717, 'accuracy': 87.17}\n"
     ]
    }
   ],
   "source": [
    "test_output = fedargs.eval_func(model, test_loader, device)\n",
    "print(test_output)"
   ]
  },
  {
   "cell_type": "code",
   "execution_count": 49,
   "id": "ab565228",
   "metadata": {},
   "outputs": [],
   "source": [
    "%matplotlib inline\n",
    "import matplotlib.pyplot as plt\n",
    "import numpy as np\n",
    "import torch.nn.functional as f\n",
    "\n",
    "def view_classify(img, ps, version=\"MNIST\"):\n",
    "    ps = ps.data.numpy().squeeze() \n",
    "    #print('Predict class confidence:',ps)\n",
    "    fig, (ax1, ax2) = plt.subplots(figsize=(6,9), ncols=2)\n",
    "    ax1.imshow(img.resize_(1, 28, 28).numpy().squeeze())\n",
    "    ax1.axis('off')\n",
    "    ax2.barh(np.arange(10), ps)\n",
    "    ax2.set_aspect(0.1)\n",
    "    ax2.set_yticks(np.arange(10))\n",
    "    if version == \"MNIST\":\n",
    "        ax2.set_yticklabels(np.arange(10))\n",
    "    ax2.set_title('Class Probability')\n",
    "    ax2.set_xlim(0, 1.1)\n",
    "    \n",
    "def predict(model, img, view = True):\n",
    "    with torch.no_grad():\n",
    "        logits = model.forward(img)\n",
    "\n",
    "    ps = f.softmax(logits, dim=1)\n",
    "    if view:\n",
    "        view_classify(img.view(1, 28, 28), ps)\n",
    "    \n",
    "    _, label = torch.max(ps, 1)\n",
    "    return label "
   ]
  },
  {
   "cell_type": "code",
   "execution_count": 50,
   "id": "3273b8bf",
   "metadata": {},
   "outputs": [
    {
     "data": {
      "text/plain": [
       "tensor([5])"
      ]
     },
     "execution_count": 50,
     "metadata": {},
     "output_type": "execute_result"
    },
    {
     "data": {
      "image/png": "[encoded data removed]",
      "text/plain": [
       "<Figure size 432x288 with 1 Axes>"
      ]
     },
     "metadata": {
      "needs_background": "light"
     },
     "output_type": "display_data"
    },
    {
     "data": {
      "image/png": "[encoded data removed]",
      "text/plain": [
       "<Figure size 432x648 with 2 Axes>"
      ]
     },
     "metadata": {
      "needs_background": "light"
     },
     "output_type": "display_data"
    }
   ],
   "source": [
    "image, label = next(iter(test_loader))\n",
    "lbl = label[0]\n",
    "helper.imshow(image[0])\n",
    "img = image[0].unsqueeze(0)\n",
    "predict(model, img)"
   ]
  },
  {
   "cell_type": "code",
   "execution_count": 51,
   "id": "c6f8c478",
   "metadata": {},
   "outputs": [
    {
     "data": {
      "text/plain": [
       "torch.Size([1, 10000])"
      ]
     },
     "execution_count": 51,
     "metadata": {},
     "output_type": "execute_result"
    }
   ],
   "source": [
    "img_enc = img.reshape(1, 784) @ fedargs.model.proj\n",
    "img_enc.size()"
   ]
  },
  {
   "cell_type": "code",
   "execution_count": 52,
   "id": "1700fe16",
   "metadata": {},
   "outputs": [
    {
     "data": {
      "text/plain": [
       "tensor([5])"
      ]
     },
     "execution_count": 52,
     "metadata": {},
     "output_type": "execute_result"
    },
    {
     "data": {
      "image/png": "[encoded data removed]",
      "text/plain": [
       "<Figure size 432x288 with 1 Axes>"
      ]
     },
     "metadata": {
      "needs_background": "light"
     },
     "output_type": "display_data"
    },
    {
     "data": {
      "image/png": "[encoded data removed]",
      "text/plain": [
       "<Figure size 432x648 with 2 Axes>"
      ]
     },
     "metadata": {
      "needs_background": "light"
     },
     "output_type": "display_data"
    }
   ],
   "source": [
    "dec_img = img_enc @ fedargs.model.proj_inv\n",
    "dec_img = dec_img.view(1, 28, 28)\n",
    "helper.imshow(dec_img)\n",
    "dec_img = dec_img.unsqueeze(0)\n",
    "predict(model, dec_img)"
   ]
  },
  {
   "cell_type": "code",
   "execution_count": 53,
   "id": "d44ad49b",
   "metadata": {},
   "outputs": [
    {
     "name": "stdout",
     "output_type": "stream",
     "text": [
      "1.0000005\n"
     ]
    }
   ],
   "source": [
    "from libs import sim\n",
    "print(sim.cosine_similarity(img.reshape(784), dec_img.reshape(784)))"
   ]
  },
  {
   "cell_type": "code",
   "execution_count": 54,
   "id": "3bc62321",
   "metadata": {},
   "outputs": [
    {
     "name": "stdout",
     "output_type": "stream",
     "text": [
      "0 0\n",
      "CPU times: user 1min 41s, sys: 448 ms, total: 1min 41s\n",
      "Wall time: 1.83 s\n"
     ]
    }
   ],
   "source": [
    "%%time\n",
    "import copy\n",
    "\n",
    "b_arr = fedargs.model.train_vectors[0]\n",
    "c_arr = img_enc.reshape(10000)\n",
    "p_arr = copy.deepcopy(c_arr)\n",
    "\n",
    "dot_mb = 1 * sim.dot(b_arr, c_arr)\n",
    "norm_b = sim.norm(b_arr)\n",
    "norm_c = sim.norm(c_arr)\n",
    "norm_m = norm_c\n",
    "sim_mg = 1\n",
    "\n",
    "kwargs = {\"scale_norm\": 10}\n",
    "\n",
    "def get_img(p_arr):\n",
    "    p_arr = p_arr.reshape(1, 10000)\n",
    "    p_img = p_arr @ fedargs.model.proj_inv\n",
    "    p_img = p_img.view(1, 28, 28)\n",
    "    p_img = p_img.unsqueeze(0)\n",
    "    return p_img\n",
    "\n",
    "count_m = 0\n",
    "count_t = 0\n",
    "c_images = []\n",
    "for index in range(1000):\n",
    "    p_arr, dot_mb, norm_m, sim_mg, updated = sim.cosine_coord_vector_adapter(b_arr, p_arr, index, dot_mb, norm_m, sim_mg, c_arr, norm_c, norm_b, **kwargs)\n",
    "    p_img = get_img(p_arr)\n",
    "    _lbl = predict(model, p_img, False)\n",
    "    if lbl != _lbl:\n",
    "        c_images.append(p_img)\n",
    "        count_m = count_m + 1\n",
    "        if _lbl == 4:\n",
    "            count_t = count_t + 1\n",
    "\n",
    "print(count_m, count_t)"
   ]
  },
  {
   "cell_type": "code",
   "execution_count": 55,
   "id": "979ba7b4",
   "metadata": {},
   "outputs": [
    {
     "data": {
      "text/plain": [
       "tensor([5])"
      ]
     },
     "execution_count": 55,
     "metadata": {},
     "output_type": "execute_result"
    },
    {
     "data": {
      "image/png": "[encoded data removed]",
      "text/plain": [
       "<Figure size 432x288 with 1 Axes>"
      ]
     },
     "metadata": {
      "needs_background": "light"
     },
     "output_type": "display_data"
    },
    {
     "data": {
      "image/png": "[encoded data removed]",
      "text/plain": [
       "<Figure size 432x648 with 2 Axes>"
      ]
     },
     "metadata": {
      "needs_background": "light"
     },
     "output_type": "display_data"
    }
   ],
   "source": [
    "helper.imshow(p_img.squeeze(0))\n",
    "predict(model, p_img)"
   ]
  },
  {
   "cell_type": "code",
   "execution_count": null,
   "id": "a937ead1",
   "metadata": {},
   "outputs": [],
   "source": []
  },
  {
   "cell_type": "code",
   "execution_count": 66,
   "id": "aafd447f",
   "metadata": {},
   "outputs": [
    {
     "name": "stdout",
     "output_type": "stream",
     "text": [
      "36\n"
     ]
    }
   ],
   "source": [
    "test_data = data.random_split(train_data, 0.0006)[1]\n",
    "print(len(test_data))"
   ]
  },
  {
   "cell_type": "code",
   "execution_count": 71,
   "id": "bc712a73",
   "metadata": {},
   "outputs": [
    {
     "name": "stdout",
     "output_type": "stream",
     "text": [
      "Simily 0.9171364\n",
      "Simily 0.9601082\n",
      "Simily 0.93131346\n",
      "Simily 0.8914752\n"
     ]
    }
   ],
   "source": [
    "mal_hdc_data = poison.hdc_dp(hdc_dp_attack[\"args\"], {4:6}, -1, (test_data, fedargs.model.train_vectors, fedargs.model.proj, fedargs.model.proj_inv))"
   ]
  },
  {
   "cell_type": "code",
   "execution_count": 72,
   "id": "f3244e10",
   "metadata": {},
   "outputs": [
    {
     "name": "stdout",
     "output_type": "stream",
     "text": [
      "Model output tensor([6])\n"
     ]
    },
    {
     "data": {
      "image/png": "[encoded data removed]",
      "text/plain": [
       "<Figure size 432x288 with 1 Axes>"
      ]
     },
     "metadata": {
      "needs_background": "light"
     },
     "output_type": "display_data"
    },
    {
     "data": {
      "image/png": "[encoded data removed]",
      "text/plain": [
       "<Figure size 432x648 with 2 Axes>"
      ]
     },
     "metadata": {
      "needs_background": "light"
     },
     "output_type": "display_data"
    }
   ],
   "source": [
    "mal_hdc_data_loader = torch.utils.data.DataLoader(mal_hdc_data, batch_size=len(mal_hdc_data), shuffle=True)\n",
    "lbl = 5\n",
    "while lbl != 6:\n",
    "    image, label = next(iter(mal_hdc_data_loader))\n",
    "    lbl = label[0]\n",
    "    \n",
    "#print(image.size())\n",
    "\n",
    "helper.imshow(image[0])\n",
    "img = image[0].unsqueeze(0)\n",
    "print(\"Model output\", predict(model, img))\n",
    "#print(label[0])"
   ]
  },
  {
   "cell_type": "code",
   "execution_count": null,
   "id": "13c5e413",
   "metadata": {},
   "outputs": [],
   "source": []
  }
 ],
 "metadata": {
  "kernelspec": {
   "display_name": "Python [conda env:syft]",
   "language": "python",
   "name": "conda-env-syft-py"
  },
  "language_info": {
   "codemirror_mode": {
    "name": "ipython",
    "version": 3
   },
   "file_extension": ".py",
   "mimetype": "text/x-python",
   "name": "python",
   "nbconvert_exporter": "python",
   "pygments_lexer": "ipython3",
   "version": "3.9.5"
  }
 },
 "nbformat": 4,
 "nbformat_minor": 5
}
