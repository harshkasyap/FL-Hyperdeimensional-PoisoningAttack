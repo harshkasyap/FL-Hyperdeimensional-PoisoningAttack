{
 "cells": [
  {
   "cell_type": "code",
   "execution_count": 1,
   "id": "882112e1",
   "metadata": {},
   "outputs": [],
   "source": [
    "import torch\n",
    "import torch.nn as nn\n",
    "import torch.nn.functional as F"
   ]
  },
  {
   "cell_type": "code",
   "execution_count": 2,
   "id": "d24d93b9",
   "metadata": {},
   "outputs": [],
   "source": [
    "# Whether I am using the GPU or the CPU is checked in this block.\n",
    "# Device configuration\n",
    "device = torch.device('cuda' if torch.cuda.is_available() else 'cpu')"
   ]
  },
  {
   "cell_type": "code",
   "execution_count": 3,
   "id": "23384432",
   "metadata": {},
   "outputs": [],
   "source": [
    "image_size = 784\n",
    "hidden_size = 256\n",
    "latent_size = 64"
   ]
  },
  {
   "cell_type": "code",
   "execution_count": 4,
   "id": "ce6fbe83",
   "metadata": {},
   "outputs": [],
   "source": [
    "import torch.nn as nn\n",
    "\n",
    "#Define a pretty simple Disriminator network which has:\n",
    "# 1. Linear layer which takes in an input of image_size as 784 and hidden size 256\n",
    "# 2. The output of the linear layer is passed through a ReLU activation function\n",
    "# 3. The result of the activation function is then passed through a Linear layer which takes in 256 input and produces 256 outputs\n",
    "# 4. This result is again passed through a leaky relu layer.\n",
    "# 5. Finally the output is passed through a Linear layer and the result is passed through the sigmoid function.\n",
    "\n",
    "D = nn.Sequential(\n",
    "    nn.Linear(image_size, hidden_size),\n",
    "    nn.LeakyReLU(0.2),\n",
    "    nn.Linear(hidden_size, hidden_size),\n",
    "    nn.LeakyReLU(0.2),\n",
    "    nn.Linear(hidden_size, 1),\n",
    "    nn.Sigmoid())"
   ]
  },
  {
   "cell_type": "code",
   "execution_count": null,
   "id": "9dbdba55",
   "metadata": {},
   "outputs": [],
   "source": [
    "criterion = nn.BCELoss()\n",
    "d_optimizer = torch.optim.Adam(model.parameters(), lr=0.0002)"
   ]
  }
 ],
 "metadata": {
  "kernelspec": {
   "display_name": "Python [conda env:syft]",
   "language": "python",
   "name": "conda-env-syft-py"
  },
  "language_info": {
   "codemirror_mode": {
    "name": "ipython",
    "version": 3
   },
   "file_extension": ".py",
   "mimetype": "text/x-python",
   "name": "python",
   "nbconvert_exporter": "python",
   "pygments_lexer": "ipython3",
   "version": "3.9.5"
  }
 },
 "nbformat": 4,
 "nbformat_minor": 5
}
