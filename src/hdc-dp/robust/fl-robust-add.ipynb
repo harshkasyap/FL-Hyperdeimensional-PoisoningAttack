{
 "cells": [
  {
   "cell_type": "code",
   "execution_count": 1,
   "id": "c2eef813",
   "metadata": {},
   "outputs": [],
   "source": [
    "%load_ext autoreload\n",
    "%autoreload 2"
   ]
  },
  {
   "cell_type": "code",
   "execution_count": 2,
   "id": "875c2e22",
   "metadata": {},
   "outputs": [],
   "source": [
    "import os, sys, torch\n",
    "sys.path.insert(0, os.path.abspath(os.path.join(os.getcwd(), \"../../../\")))\n",
    "from libs import data, hdc, helper, nn, sim\n",
    "from cfgs.fedargs import *"
   ]
  },
  {
   "cell_type": "code",
   "execution_count": 3,
   "id": "2c8f4de8",
   "metadata": {},
   "outputs": [],
   "source": [
    "use_cuda = fedargs.cuda and torch.cuda.is_available()\n",
    "torch.manual_seed(fedargs.seed)\n",
    "device = torch.device(\"cuda\" if use_cuda else \"cpu\")\n",
    "kwargs = {\"num_workers\": 1, \"pin_memory\": True} if use_cuda else {}"
   ]
  },
  {
   "cell_type": "code",
   "execution_count": 4,
   "id": "fe44c400",
   "metadata": {},
   "outputs": [],
   "source": [
    "train_data, test_data = data.load_dataset(fedargs.dataset, only_to_tensor = True)\n",
    "train_loader = torch.utils.data.DataLoader(train_data, batch_size=len(train_data), shuffle=True, **kwargs)\n",
    "test_loader = torch.utils.data.DataLoader(test_data, batch_size=len(test_data), shuffle=True, **kwargs)"
   ]
  },
  {
   "cell_type": "code",
   "execution_count": 5,
   "id": "3d557f0d",
   "metadata": {},
   "outputs": [],
   "source": [
    "fedargs.model = hdc.HDC(fedargs.one_d_len, fedargs.hdc_proj_len, len(fedargs.labels), device)"
   ]
  },
  {
   "cell_type": "code",
   "execution_count": 6,
   "id": "4a585d75",
   "metadata": {},
   "outputs": [],
   "source": [
    "# Train    \n",
    "train_acc = fedargs.model.train(train_loader, device)\n",
    "#fedargs.model.load_state_dict(torch.load('hdc.pth'))"
   ]
  },
  {
   "cell_type": "code",
   "execution_count": 7,
   "id": "89855a42",
   "metadata": {},
   "outputs": [],
   "source": [
    "# Test, Plot and Log\n",
    "test_acc = fedargs.model.test(test_loader, device)"
   ]
  },
  {
   "cell_type": "code",
   "execution_count": 8,
   "id": "9aea298f",
   "metadata": {},
   "outputs": [],
   "source": [
    "hdc_train_vectors = fedargs.model.train_vectors"
   ]
  },
  {
   "cell_type": "code",
   "execution_count": 9,
   "id": "bb75b1a4",
   "metadata": {},
   "outputs": [
    {
     "name": "stdout",
     "output_type": "stream",
     "text": [
      "82.2300033569336\n"
     ]
    }
   ],
   "source": [
    "#print(train_acc, test_acc)\n",
    "print(test_acc)"
   ]
  },
  {
   "cell_type": "code",
   "execution_count": 10,
   "id": "477f5227",
   "metadata": {},
   "outputs": [
    {
     "data": {
      "text/plain": [
       "tensor([[413594.1562, 390797.1562, 409961.3750,  ..., 410616.0625,\n",
       "         398484.3125, 400035.5938],\n",
       "        [208951.5781, 212726.1250, 185367.2812,  ..., 195493.6719,\n",
       "         198841.2188, 190918.4062],\n",
       "        [353545.4375, 347936.0312, 339464.1250,  ..., 347765.1250,\n",
       "         338524.1562, 342029.1875],\n",
       "        ...,\n",
       "        [298596.1562, 282200.2188, 282753.6250,  ..., 279368.7812,\n",
       "         270344.1562, 271063.1562],\n",
       "        [357189.7812, 349922.8125, 332973.8438,  ..., 349237.8438,\n",
       "         333702.3438, 332882.6562],\n",
       "        [298082.3438, 286517.2812, 282852.2500,  ..., 284992.3125,\n",
       "         267025.3438, 279061.9062]])"
      ]
     },
     "execution_count": 10,
     "metadata": {},
     "output_type": "execute_result"
    }
   ],
   "source": [
    "hdc_train_vectors"
   ]
  },
  {
   "cell_type": "code",
   "execution_count": 11,
   "id": "7db01bd7",
   "metadata": {},
   "outputs": [],
   "source": [
    "model = nn.ModelMNIST()"
   ]
  },
  {
   "cell_type": "code",
   "execution_count": 12,
   "id": "caf96e79",
   "metadata": {},
   "outputs": [],
   "source": [
    "train_loader = torch.utils.data.DataLoader(train_data, batch_size=128, shuffle=True, **kwargs)\n",
    "test_loader = torch.utils.data.DataLoader(test_data, batch_size=1024, shuffle=True, **kwargs)"
   ]
  },
  {
   "cell_type": "code",
   "execution_count": 13,
   "id": "522d7467",
   "metadata": {},
   "outputs": [
    {
     "data": {
      "text/plain": [
       "ModelMNIST(\n",
       "  (conv1): Conv2d(1, 32, kernel_size=(3, 3), stride=(1, 1))\n",
       "  (conv2): Conv2d(32, 64, kernel_size=(3, 3), stride=(1, 1))\n",
       "  (dropout1): Dropout2d(p=0.25, inplace=False)\n",
       "  (dropout2): Dropout2d(p=0.5, inplace=False)\n",
       "  (fc1): Linear(in_features=9216, out_features=128, bias=True)\n",
       "  (fc2): Linear(in_features=128, out_features=10, bias=True)\n",
       ")"
      ]
     },
     "execution_count": 13,
     "metadata": {},
     "output_type": "execute_result"
    }
   ],
   "source": [
    "'''\n",
    "# Train\n",
    "from tqdm import tqdm\n",
    "\n",
    "fedargs.epochs = 5\n",
    "fedargs.local_rounds = 1\n",
    "for epoch in tqdm(range(fedargs.epochs)):\n",
    "    _, model, loss = fedargs.train_func(model, train_loader, \n",
    "                                        fedargs.learning_rate,\n",
    "                                        fedargs.weight_decay,\n",
    "                                        fedargs.local_rounds, device)\n",
    "torch.save(model.state_dict(), 'nn.pth')                                        \n",
    "'''\n",
    "model.load_state_dict(torch.load('nn.pth'))\n",
    "model.eval()"
   ]
  },
  {
   "cell_type": "code",
   "execution_count": 14,
   "id": "1d410e53",
   "metadata": {},
   "outputs": [
    {
     "name": "stdout",
     "output_type": "stream",
     "text": [
      "{'test_loss': 0.07843767547607422, 'correct': 9745, 'accuracy': 97.45}\n"
     ]
    }
   ],
   "source": [
    "test_output = fedargs.eval_func(model, test_loader, device)\n",
    "print(test_output)"
   ]
  },
  {
   "cell_type": "code",
   "execution_count": 15,
   "id": "ab565228",
   "metadata": {},
   "outputs": [],
   "source": [
    "%matplotlib inline\n",
    "import matplotlib.pyplot as plt\n",
    "import numpy as np\n",
    "import torch.nn.functional as f\n",
    "\n",
    "def view_classify(img, ps, version=\"MNIST\"):\n",
    "    ps = ps.data.numpy().squeeze() \n",
    "    print('Predict class confidence:',ps)\n",
    "    fig, (ax1, ax2) = plt.subplots(figsize=(6,9), ncols=2)\n",
    "    ax1.imshow(img.resize_(1, 28, 28).numpy().squeeze())\n",
    "    ax1.axis('off')\n",
    "    ax2.barh(np.arange(10), ps)\n",
    "    ax2.set_aspect(0.1)\n",
    "    ax2.set_yticks(np.arange(10))\n",
    "    if version == \"MNIST\":\n",
    "        ax2.set_yticklabels(np.arange(10))\n",
    "    ax2.set_title('Class Probability')\n",
    "    ax2.set_xlim(0, 1.1)\n",
    "    \n",
    "def predict(model, img, view = False):\n",
    "    with torch.no_grad():\n",
    "        logits = model.forward(img)\n",
    "\n",
    "    ps = f.softmax(logits, dim=1)\n",
    "    if view:\n",
    "        view_classify(img.view(1, 28, 28), ps)\n",
    "    \n",
    "    _, label = torch.max(ps, 1)\n",
    "    return label "
   ]
  },
  {
   "cell_type": "code",
   "execution_count": 92,
   "id": "3273b8bf",
   "metadata": {},
   "outputs": [
    {
     "data": {
      "text/plain": [
       "tensor([5])"
      ]
     },
     "execution_count": 92,
     "metadata": {},
     "output_type": "execute_result"
    },
    {
     "data": {
      "image/png": "[encoded data removed]",
      "text/plain": [
       "<Figure size 432x288 with 1 Axes>"
      ]
     },
     "metadata": {
      "needs_background": "light"
     },
     "output_type": "display_data"
    }
   ],
   "source": [
    "image, label = next(iter(test_loader))\n",
    "lbl = label[0]\n",
    "helper.imshow(image[0])\n",
    "img5 = image[0].unsqueeze(0)\n",
    "predict(model, img5)"
   ]
  },
  {
   "cell_type": "code",
   "execution_count": 74,
   "id": "032e91e1",
   "metadata": {},
   "outputs": [
    {
     "data": {
      "text/plain": [
       "tensor([8])"
      ]
     },
     "execution_count": 74,
     "metadata": {},
     "output_type": "execute_result"
    },
    {
     "data": {
      "image/png": "[encoded data removed]",
      "text/plain": [
       "<Figure size 432x288 with 1 Axes>"
      ]
     },
     "metadata": {
      "needs_background": "light"
     },
     "output_type": "display_data"
    }
   ],
   "source": [
    "image, label = next(iter(test_loader))\n",
    "lbl = label[0]\n",
    "helper.imshow(image[0])\n",
    "img8 = image[0].unsqueeze(0)\n",
    "predict(model, img8)"
   ]
  },
  {
   "cell_type": "code",
   "execution_count": 75,
   "id": "e76826eb",
   "metadata": {},
   "outputs": [
    {
     "name": "stdout",
     "output_type": "stream",
     "text": [
      "torch.Size([1, 1, 28, 28]) torch.Size([1, 1, 28, 28])\n"
     ]
    }
   ],
   "source": [
    "print(img5.shape, img8.shape)"
   ]
  },
  {
   "cell_type": "code",
   "execution_count": 111,
   "id": "a9afdfb3",
   "metadata": {},
   "outputs": [
    {
     "name": "stdout",
     "output_type": "stream",
     "text": [
      "tensor([9])\n"
     ]
    },
    {
     "data": {
      "text/plain": [
       "<AxesSubplot:>"
      ]
     },
     "execution_count": 111,
     "metadata": {},
     "output_type": "execute_result"
    },
    {
     "data": {
      "image/png": "[encoded data removed]",
      "text/plain": [
       "<Figure size 432x288 with 1 Axes>"
      ]
     },
     "metadata": {
      "needs_background": "light"
     },
     "output_type": "display_data"
    }
   ],
   "source": [
    "_img5 = copy.deepcopy(img5)\n",
    "_img8 = copy.deepcopy(img8)\n",
    "\n",
    "for d in range(500):\n",
    "    _img5 = _img5.reshape(1, 784)\n",
    "    _img8 = _img8.reshape(1, 784)\n",
    "    _img5[0][d] = _img8[0][d] +  _img5[0][d]\n",
    "    _img5 = _img5.reshape(1, 1, 28, 28)\n",
    "\n",
    "print(predict(model, _img5))\n",
    "helper.imshow(_img5.squeeze(0))"
   ]
  },
  {
   "cell_type": "code",
   "execution_count": null,
   "id": "11f4fb0e",
   "metadata": {},
   "outputs": [],
   "source": []
  }
 ],
 "metadata": {
  "kernelspec": {
   "display_name": "Python [conda env:syft]",
   "language": "python",
   "name": "conda-env-syft-py"
  },
  "language_info": {
   "codemirror_mode": {
    "name": "ipython",
    "version": 3
   },
   "file_extension": ".py",
   "mimetype": "text/x-python",
   "name": "python",
   "nbconvert_exporter": "python",
   "pygments_lexer": "ipython3",
   "version": "3.9.5"
  }
 },
 "nbformat": 4,
 "nbformat_minor": 5
}
