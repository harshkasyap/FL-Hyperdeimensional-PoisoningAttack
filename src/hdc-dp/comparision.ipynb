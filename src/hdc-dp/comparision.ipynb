{
 "cells": [
  {
   "cell_type": "code",
   "execution_count": 34,
   "metadata": {},
   "outputs": [
    {
     "name": "stdout",
     "output_type": "stream",
     "text": [
      "The autoreload extension is already loaded. To reload it, use:\n",
      "  %reload_ext autoreload\n"
     ]
    }
   ],
   "source": [
    "%load_ext autoreload\n",
    "%autoreload 2"
   ]
  },
  {
   "cell_type": "code",
   "execution_count": 35,
   "metadata": {},
   "outputs": [],
   "source": [
    "import torch, torchvision, torchattacks\n",
    "from torchvision import datasets, transforms\n",
    "from torch import nn, optim\n",
    "from torch.nn import functional as F\n",
    "\n",
    "import numpy as np\n",
    "import shap\n",
    "import data, hdc, sim, poison, JSMA, DeepFool, SparseFool, MMD1, MMD2\n",
    "import cmath, copy\n",
    "\n",
    "%matplotlib inline\n",
    "import matplotlib.pyplot as plt"
   ]
  },
  {
   "cell_type": "code",
   "execution_count": 36,
   "metadata": {},
   "outputs": [],
   "source": [
    "# Device settings\n",
    "torch.manual_seed(1000)\n",
    "device = \"cpu\""
   ]
  },
  {
   "cell_type": "code",
   "execution_count": 37,
   "metadata": {},
   "outputs": [
    {
     "name": "stdout",
     "output_type": "stream",
     "text": [
      "Train Epoch: 1 [0/60000 (0%)]\tLoss: 2.316031\n",
      "Train Epoch: 1 [12800/60000 (21%)]\tLoss: 2.223984\n",
      "Train Epoch: 1 [25600/60000 (43%)]\tLoss: 1.606540\n",
      "Train Epoch: 1 [38400/60000 (64%)]\tLoss: 1.131389\n",
      "Train Epoch: 1 [51200/60000 (85%)]\tLoss: 0.729420\n",
      "\n",
      "Test set: Average loss: 0.0054, Accuracy: 8850/10000 (88%)\n",
      "\n",
      "Train Epoch: 2 [0/60000 (0%)]\tLoss: 0.751895\n",
      "Train Epoch: 2 [12800/60000 (21%)]\tLoss: 0.640682\n",
      "Train Epoch: 2 [25600/60000 (43%)]\tLoss: 0.517443\n",
      "Train Epoch: 2 [38400/60000 (64%)]\tLoss: 0.540116\n",
      "Train Epoch: 2 [51200/60000 (85%)]\tLoss: 0.370910\n",
      "\n",
      "Test set: Average loss: 0.0030, Accuracy: 9282/10000 (93%)\n",
      "\n"
     ]
    }
   ],
   "source": [
    "batch_size = 128\n",
    "num_epochs = 2\n",
    "device = torch.device('cpu')\n",
    "\n",
    "class Net(nn.Module):\n",
    "    def __init__(self):\n",
    "        super(Net, self).__init__()\n",
    "\n",
    "        self.conv_layers = nn.Sequential(\n",
    "            nn.Conv2d(1, 10, kernel_size=5),\n",
    "            nn.MaxPool2d(2),\n",
    "            nn.ReLU(),\n",
    "            nn.Conv2d(10, 20, kernel_size=5),\n",
    "            nn.Dropout(),\n",
    "            nn.MaxPool2d(2),\n",
    "            nn.ReLU(),\n",
    "        )\n",
    "        self.fc_layers = nn.Sequential(\n",
    "            nn.Linear(320, 50),\n",
    "            nn.ReLU(),\n",
    "            nn.Dropout(),\n",
    "            nn.Linear(50, 10),\n",
    "            nn.Softmax(dim=1)\n",
    "        )\n",
    "\n",
    "    def forward(self, x):\n",
    "        x = self.conv_layers(x)\n",
    "        x = x.view(-1, 320)\n",
    "        x = self.fc_layers(x)\n",
    "        return x\n",
    "    \n",
    "def train(model, device, train_loader, optimizer, epoch):\n",
    "    model.train()\n",
    "    for batch_idx, (data, target) in enumerate(train_loader):\n",
    "        data, target = data.to(device), target.to(device)\n",
    "        optimizer.zero_grad()\n",
    "        output = model(data)\n",
    "        loss = F.nll_loss(output.log(), target)\n",
    "        loss.backward()\n",
    "        optimizer.step()\n",
    "        if batch_idx % 100 == 0:\n",
    "            print('Train Epoch: {} [{}/{} ({:.0f}%)]\\tLoss: {:.6f}'.format(\n",
    "                epoch, batch_idx * len(data), len(train_loader.dataset),\n",
    "                100. * batch_idx / len(train_loader), loss.item()))\n",
    "\n",
    "def test(model, device, test_loader):\n",
    "    model.eval()\n",
    "    test_loss = 0\n",
    "    correct = 0\n",
    "    with torch.no_grad():\n",
    "        for data, target in test_loader:\n",
    "            data, target = data.to(device), target.to(device)\n",
    "            output = model(data)\n",
    "            test_loss += F.nll_loss(output.log(), target).item() # sum up batch loss\n",
    "            pred = output.max(1, keepdim=True)[1] # get the index of the max log-probability\n",
    "            correct += pred.eq(target.view_as(pred)).sum().item()\n",
    "\n",
    "    test_loss /= len(test_loader.dataset)\n",
    "    print('\\nTest set: Average loss: {:.4f}, Accuracy: {}/{} ({:.0f}%)\\n'.format(\n",
    "        test_loss, correct, len(test_loader.dataset),\n",
    "    100. * correct / len(test_loader.dataset)))\n",
    "\n",
    "train_data = datasets.MNIST(root='mnist_data', train=True, transform=transforms.ToTensor(), download=True)\n",
    "test_data = datasets.MNIST(root='mnist_data', train=False, transform=transforms.ToTensor(), download=True)\n",
    "\n",
    "hdc_train_loader = torch.utils.data.DataLoader(train_data, batch_size=len(train_data), shuffle=True)\n",
    "hdc_test_loader = torch.utils.data.DataLoader(test_data, batch_size=len(test_data), shuffle=True)\n",
    "        \n",
    "train_loader = torch.utils.data.DataLoader(\n",
    "    datasets.MNIST('mnist_data', train=True, download=True,\n",
    "                   transform=transforms.Compose([\n",
    "                       transforms.ToTensor()\n",
    "                   ])),\n",
    "    batch_size=batch_size, shuffle=True)\n",
    "\n",
    "test_loader = torch.utils.data.DataLoader(\n",
    "    datasets.MNIST('mnist_data', train=False, transform=transforms.Compose([\n",
    "                       transforms.ToTensor()\n",
    "                   ])),\n",
    "    batch_size=batch_size, shuffle=True)\n",
    "\n",
    "model = Net().to(device)\n",
    "optimizer = optim.SGD(model.parameters(), lr=0.01, momentum=0.5)\n",
    "\n",
    "for epoch in range(1, num_epochs + 1):\n",
    "    train(model, device, train_loader, optimizer, epoch)\n",
    "    test(model, device, test_loader)"
   ]
  },
  {
   "cell_type": "code",
   "execution_count": 38,
   "metadata": {},
   "outputs": [],
   "source": [
    "def check_adv_label (labels, images, adv_images):\n",
    "    print(labels[0])\n",
    "    print(model(images[0].unsqueeze(0)), model(images[0].unsqueeze(0)).max(1, keepdim=True)[1])\n",
    "    print(model(adv_images[0].unsqueeze(0)), model(adv_images[0].unsqueeze(0)).max(1, keepdim=True)[1])\n",
    "\n",
    "    count = 0    \n",
    "    for img in adv_images:\n",
    "        if model(img.unsqueeze(0)).max(1, keepdim=True)[1] != 4:\n",
    "            count = count + 1\n",
    "    \n",
    "    print(count, (count*100)/128)"
   ]
  },
  {
   "cell_type": "code",
   "execution_count": 39,
   "metadata": {},
   "outputs": [],
   "source": [
    "# since shuffle=True, this is a random sample of test data\n",
    "batch = next(iter(train_loader))\n",
    "images, labels = batch\n",
    "\n",
    "count = 0\n",
    "lbl4data = []\n",
    "for batch_idx, (data, target) in enumerate(train_loader):\n",
    "    if count == 200:\n",
    "        break\n",
    "    for img, label in zip(data, target):\n",
    "        if count == 200:\n",
    "            break\n",
    "        if label == 4:\n",
    "            lbl4data.append([img, label])\n",
    "            count = count + 1\n",
    "\n",
    "lbl4_train_loader = torch.utils.data.DataLoader(lbl4data, shuffle=True, batch_size=batch_size)            \n",
    "lbl4_batch = next(iter(lbl4_train_loader))\n",
    "images4, labels4 = lbl4_batch\n",
    "\n",
    "#background = images\n",
    "#e = shap.DeepExplainer(model, background)"
   ]
  },
  {
   "cell_type": "code",
   "execution_count": 40,
   "metadata": {},
   "outputs": [
    {
     "data": {
      "text/plain": [
       "'\\nhdc_model = hdc.HDC(784, 10000, 10, device)\\ntrain_acc = hdc_model.train(hdc_train_loader, device)\\ntest_acc = hdc_model.test(hdc_test_loader, device)\\nprint(test_acc)\\nhdc_train_vectors = hdc_model.train_vectors\\n\\nhdc_dp_attack = {\"is\": False,\\n                 \"percent\": -1,\\n                 \"args\": {\"scale_dot\": 1,\\n                          \"scale_norm\": 10,\\n                          \"labels\": [label for label in range(10)],\\n                          \"one_d_len\": 784,\\n                          \"hdc_proj_len\": 10000,\\n                          \"view\": [1, 28, 28]}}\\n\\nsplit_data = data.random_split(train_data, 0.006)[1]\\nprint(len(split_data))\\nadv_images = poison.hdc_dp(hdc_dp_attack[\"args\"], {4:6}, -1, (split_data, hdc_model.train_vectors, hdc_model.proj, hdc_model.proj_inv))\\n#adv_images = hdc_dp(split_data(train_data))\\n#print(check_adv_label(labels, images, adv_images))\\n'"
      ]
     },
     "execution_count": 40,
     "metadata": {},
     "output_type": "execute_result"
    }
   ],
   "source": [
    "'''\n",
    "hdc_model = hdc.HDC(784, 10000, 10, device)\n",
    "train_acc = hdc_model.train(hdc_train_loader, device)\n",
    "test_acc = hdc_model.test(hdc_test_loader, device)\n",
    "print(test_acc)\n",
    "hdc_train_vectors = hdc_model.train_vectors\n",
    "\n",
    "hdc_dp_attack = {\"is\": False,\n",
    "                 \"percent\": -1,\n",
    "                 \"args\": {\"scale_dot\": 1,\n",
    "                          \"scale_norm\": 10,\n",
    "                          \"labels\": [label for label in range(10)],\n",
    "                          \"one_d_len\": 784,\n",
    "                          \"hdc_proj_len\": 10000,\n",
    "                          \"view\": [1, 28, 28]}}\n",
    "\n",
    "split_data = data.random_split(train_data, 0.006)[1]\n",
    "print(len(split_data))\n",
    "adv_images = poison.hdc_dp(hdc_dp_attack[\"args\"], {4:6}, -1, (split_data, hdc_model.train_vectors, hdc_model.proj, hdc_model.proj_inv))\n",
    "#adv_images = hdc_dp(split_data(train_data))\n",
    "#print(check_adv_label(labels, images, adv_images))\n",
    "'''"
   ]
  },
  {
   "cell_type": "code",
   "execution_count": 41,
   "metadata": {},
   "outputs": [
    {
     "data": {
      "text/plain": [
       "'\\nprint(len(adv_images), adv_images[0][0].shape)\\nplt.imshow(adv_images[120][0].numpy()[0])\\nprint(model(adv_images[120][0].unsqueeze(0)).max(1, keepdim=True)[1])\\n'"
      ]
     },
     "execution_count": 41,
     "metadata": {},
     "output_type": "execute_result"
    }
   ],
   "source": [
    "'''\n",
    "print(len(adv_images), adv_images[0][0].shape)\n",
    "plt.imshow(adv_images[120][0].numpy()[0])\n",
    "print(model(adv_images[120][0].unsqueeze(0)).max(1, keepdim=True)[1])\n",
    "'''"
   ]
  },
  {
   "cell_type": "code",
   "execution_count": 42,
   "metadata": {},
   "outputs": [
    {
     "name": "stdout",
     "output_type": "stream",
     "text": [
      "tensor(4)\n",
      "tensor([[1.5702e-04, 2.3457e-04, 3.3204e-04, 6.4660e-04, 8.9798e-01, 6.4398e-03,\n",
      "         3.7275e-03, 2.2394e-03, 4.2727e-03, 8.3973e-02]],\n",
      "       grad_fn=<SoftmaxBackward>) tensor([[4]])\n",
      "tensor([[3.1044e-04, 3.4350e-04, 5.0740e-04, 1.2960e-03, 8.3188e-01, 1.1830e-02,\n",
      "         3.8846e-03, 4.9756e-03, 8.3855e-03, 1.3659e-01]],\n",
      "       grad_fn=<SoftmaxBackward>) tensor([[4]])\n",
      "13 10.15625\n",
      "None\n"
     ]
    },
    {
     "data": {
      "text/plain": [
       "<matplotlib.image.AxesImage at 0x7f4b34eb5130>"
      ]
     },
     "execution_count": 42,
     "metadata": {},
     "output_type": "execute_result"
    },
    {
     "data": {
      "image/png": "[encoded data removed]",
      "text/plain": [
       "<Figure size 432x288 with 1 Axes>"
      ]
     },
     "metadata": {
      "needs_background": "light"
     },
     "output_type": "display_data"
    }
   ],
   "source": [
    "attack = torchattacks.FGSM(model, eps=8/255)\n",
    "adv_images_FGSM = attack(images4, labels4)\n",
    "print(check_adv_label(labels4, images4, adv_images_FGSM))\n",
    "plt.imshow(adv_images_FGSM[120].numpy()[0])"
   ]
  },
  {
   "cell_type": "code",
   "execution_count": 43,
   "metadata": {},
   "outputs": [
    {
     "name": "stdout",
     "output_type": "stream",
     "text": [
      "tensor(4)\n",
      "tensor([[1.5702e-04, 2.3457e-04, 3.3204e-04, 6.4660e-04, 8.9798e-01, 6.4398e-03,\n",
      "         3.7275e-03, 2.2394e-03, 4.2727e-03, 8.3973e-02]],\n",
      "       grad_fn=<SoftmaxBackward>) tensor([[4]])\n",
      "tensor([[3.0707e-04, 3.3884e-04, 5.0073e-04, 1.2792e-03, 8.3262e-01, 1.1664e-02,\n",
      "         3.8544e-03, 4.9391e-03, 8.2540e-03, 1.3624e-01]],\n",
      "       grad_fn=<SoftmaxBackward>) tensor([[4]])\n",
      "13 10.15625\n",
      "None\n"
     ]
    },
    {
     "data": {
      "text/plain": [
       "<matplotlib.image.AxesImage at 0x7f4b328d0790>"
      ]
     },
     "execution_count": 43,
     "metadata": {},
     "output_type": "execute_result"
    },
    {
     "data": {
      "image/png": "[encoded data removed]",
      "text/plain": [
       "<Figure size 432x288 with 1 Axes>"
      ]
     },
     "metadata": {
      "needs_background": "light"
     },
     "output_type": "display_data"
    }
   ],
   "source": [
    "attack = torchattacks.PGD(model, eps=8/255, alpha=1/255, steps=10, random_start=True)\n",
    "adv_images_PGD = attack(images4, labels4)\n",
    "print(check_adv_label(labels4, images4, adv_images_PGD))\n",
    "plt.imshow(adv_images_PGD[120].numpy()[0])"
   ]
  },
  {
   "cell_type": "code",
   "execution_count": 44,
   "metadata": {},
   "outputs": [
    {
     "name": "stdout",
     "output_type": "stream",
     "text": [
      "tensor(4)\n",
      "tensor([[1.5702e-04, 2.3457e-04, 3.3204e-04, 6.4660e-04, 8.9798e-01, 6.4398e-03,\n",
      "         3.7275e-03, 2.2394e-03, 4.2727e-03, 8.3973e-02]],\n",
      "       grad_fn=<SoftmaxBackward>) tensor([[4]])\n",
      "tensor([[1.5702e-04, 2.3457e-04, 3.3204e-04, 6.4660e-04, 8.9798e-01, 6.4398e-03,\n",
      "         3.7275e-03, 2.2394e-03, 4.2727e-03, 8.3973e-02]],\n",
      "       grad_fn=<SoftmaxBackward>) tensor([[4]])\n",
      "10 7.8125\n",
      "None\n"
     ]
    },
    {
     "data": {
      "text/plain": [
       "<matplotlib.image.AxesImage at 0x7f4b34d806a0>"
      ]
     },
     "execution_count": 44,
     "metadata": {},
     "output_type": "execute_result"
    },
    {
     "data": {
      "image/png": "[encoded data removed]",
      "text/plain": [
       "<Figure size 432x288 with 1 Axes>"
      ]
     },
     "metadata": {
      "needs_background": "light"
     },
     "output_type": "display_data"
    }
   ],
   "source": [
    "attack = torchattacks.CW(model, c=1, kappa=0, steps=50, lr=0.01)\n",
    "adv_images_CW = attack(images4, labels4)\n",
    "print(check_adv_label(labels4, images4, adv_images_CW))\n",
    "plt.imshow(adv_images_CW[120].numpy()[0])"
   ]
  },
  {
   "cell_type": "code",
   "execution_count": 45,
   "metadata": {},
   "outputs": [
    {
     "name": "stdout",
     "output_type": "stream",
     "text": [
      "tensor(4)\n",
      "tensor([[1.5702e-04, 2.3457e-04, 3.3204e-04, 6.4660e-04, 8.9798e-01, 6.4398e-03,\n",
      "         3.7275e-03, 2.2394e-03, 4.2727e-03, 8.3973e-02]],\n",
      "       grad_fn=<SoftmaxBackward>) tensor([[4]])\n",
      "tensor([[3.3638e-04, 2.1538e-04, 4.7753e-04, 1.5060e-03, 7.8554e-01, 1.5010e-02,\n",
      "         2.9557e-03, 5.9372e-03, 9.1672e-03, 1.7886e-01]],\n",
      "       grad_fn=<SoftmaxBackward>) tensor([[4]])\n",
      "20 15.625\n",
      "None\n",
      "CPU times: user 14min 12s, sys: 1.74 s, total: 14min 13s\n",
      "Wall time: 15.3 s\n"
     ]
    },
    {
     "data": {
      "text/plain": [
       "<matplotlib.image.AxesImage at 0x7f4b34e56fd0>"
      ]
     },
     "execution_count": 45,
     "metadata": {},
     "output_type": "execute_result"
    },
    {
     "data": {
      "image/png": "[encoded data removed]",
      "text/plain": [
       "<Figure size 432x288 with 1 Axes>"
      ]
     },
     "metadata": {
      "needs_background": "light"
     },
     "output_type": "display_data"
    }
   ],
   "source": [
    "%%time\n",
    "attack = JSMA.JSMA(model, theta=.5, gamma=0.01)\n",
    "adv_images_JSMA = attack(images4, labels4)\n",
    "\n",
    "print(check_adv_label(labels4, images4, adv_images_JSMA))\n",
    "plt.imshow(adv_images_JSMA[120].numpy()[0])"
   ]
  },
  {
   "cell_type": "code",
   "execution_count": 46,
   "metadata": {},
   "outputs": [
    {
     "name": "stdout",
     "output_type": "stream",
     "text": [
      "CPU times: user 11.4 s, sys: 17.6 s, total: 28.9 s\n",
      "Wall time: 837 ms\n"
     ]
    }
   ],
   "source": [
    "%%time\n",
    "attack = torchattacks.SPSA(model, eps=0.3)\n",
    "adv_images_SPSA = attack(images4, labels4)\n",
    "\n",
    "#print(check_adv_label(labels4, images4, adv_images_SPSA))\n",
    "#plt.imshow(adv_images_SPSA[120].detach().numpy()[0])"
   ]
  },
  {
   "cell_type": "code",
   "execution_count": 47,
   "metadata": {},
   "outputs": [
    {
     "name": "stdout",
     "output_type": "stream",
     "text": [
      "tensor(4)\n",
      "tensor([[1.5702e-04, 2.3457e-04, 3.3204e-04, 6.4660e-04, 8.9798e-01, 6.4398e-03,\n",
      "         3.7275e-03, 2.2394e-03, 4.2727e-03, 8.3973e-02]],\n",
      "       grad_fn=<SoftmaxBackward>) tensor([[4]])\n",
      "tensor([[4.7018e-03, 4.9634e-04, 1.3157e-03, 1.4543e-02, 1.6515e-01, 6.5939e-02,\n",
      "         1.1720e-03, 1.4818e-01, 4.9153e-02, 5.4936e-01]],\n",
      "       grad_fn=<SoftmaxBackward>) tensor([[9]])\n",
      "104 81.25\n",
      "None\n"
     ]
    },
    {
     "data": {
      "text/plain": [
       "<matplotlib.image.AxesImage at 0x7f4b34e3ac10>"
      ]
     },
     "execution_count": 47,
     "metadata": {},
     "output_type": "execute_result"
    },
    {
     "data": {
      "image/png": "[encoded data removed]",
      "text/plain": [
       "<Figure size 432x288 with 1 Axes>"
      ]
     },
     "metadata": {
      "needs_background": "light"
     },
     "output_type": "display_data"
    }
   ],
   "source": [
    "attack = DeepFool.DeepFool(model, steps=10, overshoot=0.02)\n",
    "adv_images_DeepFool = attack(images4, labels4)\n",
    "print(check_adv_label(labels4, images4, adv_images_DeepFool))\n",
    "plt.imshow(adv_images_DeepFool[120].numpy()[0])"
   ]
  },
  {
   "cell_type": "code",
   "execution_count": 48,
   "metadata": {},
   "outputs": [
    {
     "name": "stdout",
     "output_type": "stream",
     "text": [
      "tensor(4)\n",
      "tensor([[1.5702e-04, 2.3457e-04, 3.3204e-04, 6.4660e-04, 8.9798e-01, 6.4398e-03,\n",
      "         3.7275e-03, 2.2394e-03, 4.2727e-03, 8.3973e-02]],\n",
      "       grad_fn=<SoftmaxBackward>) tensor([[4]])\n",
      "tensor([[2.4473e-03, 1.7862e-04, 9.9343e-04, 5.5112e-03, 3.1760e-01, 3.5395e-02,\n",
      "         1.5326e-03, 5.8460e-02, 2.3239e-02, 5.5464e-01]],\n",
      "       grad_fn=<SoftmaxBackward>) tensor([[9]])\n",
      "110 85.9375\n",
      "None\n"
     ]
    },
    {
     "data": {
      "text/plain": [
       "<matplotlib.image.AxesImage at 0x7f4b328a6160>"
      ]
     },
     "execution_count": 48,
     "metadata": {},
     "output_type": "execute_result"
    },
    {
     "data": {
      "image/png": "[encoded data removed]",
      "text/plain": [
       "<Figure size 432x288 with 1 Axes>"
      ]
     },
     "metadata": {
      "needs_background": "light"
     },
     "output_type": "display_data"
    }
   ],
   "source": [
    "attack = SparseFool.SparseFool(model, steps=10, lam=1, overshoot=0.001)\n",
    "adv_images_SparseFool = attack(images4, labels4)\n",
    "print(check_adv_label(labels4, images4, adv_images_SparseFool))\n",
    "plt.imshow(adv_images_SparseFool[120].numpy()[0])"
   ]
  },
  {
   "cell_type": "code",
   "execution_count": 49,
   "metadata": {},
   "outputs": [
    {
     "name": "stderr",
     "output_type": "stream",
     "text": [
      "divide by zero encountered in double_scalars\n"
     ]
    },
    {
     "name": "stdout",
     "output_type": "stream",
     "text": [
      "tensor(4)\n",
      "tensor([[1.5702e-04, 2.3457e-04, 3.3204e-04, 6.4660e-04, 8.9798e-01, 6.4398e-03,\n",
      "         3.7275e-03, 2.2394e-03, 4.2727e-03, 8.3973e-02]],\n",
      "       grad_fn=<SoftmaxBackward>) tensor([[4]])\n",
      "tensor([[1.9395e-04, 2.3956e-04, 3.7588e-04, 7.9441e-04, 8.7923e-01, 7.5855e-03,\n",
      "         3.6288e-03, 2.9083e-03, 5.0872e-03, 9.9957e-02]],\n",
      "       grad_fn=<SoftmaxBackward>) tensor([[4]])\n",
      "8 6.25\n",
      "None\n"
     ]
    },
    {
     "data": {
      "text/plain": [
       "<matplotlib.image.AxesImage at 0x7f4b35080100>"
      ]
     },
     "execution_count": 49,
     "metadata": {},
     "output_type": "execute_result"
    },
    {
     "data": {
      "image/png": "[encoded data removed]",
      "text/plain": [
       "<Figure size 432x288 with 1 Axes>"
      ]
     },
     "metadata": {
      "needs_background": "light"
     },
     "output_type": "display_data"
    }
   ],
   "source": [
    "attack = torchattacks.OnePixel(model, pixels=1, steps=10, popsize=10, inf_batch=128)\n",
    "adv_images_OnePixel = attack(images4, labels4)\n",
    "print(check_adv_label(labels4, images4, adv_images_OnePixel))\n",
    "plt.imshow(adv_images_OnePixel[120].numpy()[0])"
   ]
  },
  {
   "cell_type": "code",
   "execution_count": 50,
   "metadata": {},
   "outputs": [
    {
     "name": "stdout",
     "output_type": "stream",
     "text": [
      "tensor(4)\n",
      "tensor([[1.5702e-04, 2.3457e-04, 3.3204e-04, 6.4660e-04, 8.9798e-01, 6.4398e-03,\n",
      "         3.7275e-03, 2.2394e-03, 4.2727e-03, 8.3973e-02]],\n",
      "       grad_fn=<SoftmaxBackward>) tensor([[4]])\n",
      "tensor([[0.0060, 0.0031, 0.0059, 0.0230, 0.3064, 0.0662, 0.0065, 0.0897, 0.0756,\n",
      "         0.4175]], grad_fn=<SoftmaxBackward>) tensor([[9]])\n",
      "128 100.0\n",
      "None\n"
     ]
    },
    {
     "data": {
      "text/plain": [
       "<matplotlib.image.AxesImage at 0x7f4b9caf4310>"
      ]
     },
     "execution_count": 50,
     "metadata": {},
     "output_type": "execute_result"
    },
    {
     "data": {
      "image/png": "[encoded data removed]",
      "text/plain": [
       "<Figure size 432x288 with 1 Axes>"
      ]
     },
     "metadata": {
      "needs_background": "light"
     },
     "output_type": "display_data"
    }
   ],
   "source": [
    "attack = torchattacks.Pixle(model, x_dimensions=(0.1, 0.2), restarts=10, max_iterations=50)\n",
    "adv_images_Pixle = attack(images4, labels4)\n",
    "print(check_adv_label(labels4, images4, adv_images_Pixle))\n",
    "plt.imshow(adv_images_Pixle[0].numpy()[0])"
   ]
  },
  {
   "cell_type": "code",
   "execution_count": 51,
   "metadata": {},
   "outputs": [
    {
     "data": {
      "text/plain": [
       "<matplotlib.image.AxesImage at 0x7f4b9cc48be0>"
      ]
     },
     "execution_count": 51,
     "metadata": {},
     "output_type": "execute_result"
    },
    {
     "data": {
      "image/png": "[encoded data removed]",
      "text/plain": [
       "<Figure size 432x288 with 1 Axes>"
      ]
     },
     "metadata": {
      "needs_background": "light"
     },
     "output_type": "display_data"
    }
   ],
   "source": [
    "plt.imshow(adv_images_hdc[0][0][0])"
   ]
  },
  {
   "cell_type": "code",
   "execution_count": 52,
   "metadata": {},
   "outputs": [
    {
     "name": "stdout",
     "output_type": "stream",
     "text": [
      "CPU times: user 18min 23s, sys: 4.15 s, total: 18min 27s\n",
      "Wall time: 20.3 s\n"
     ]
    }
   ],
   "source": [
    "%%time\n",
    "attack = torchattacks.AutoAttack(model, norm='Linf', eps=8/255, version='standard', n_classes=10, seed=None, verbose=False)\n",
    "adv_images_AutoAttack = attack(images4, labels4)\n",
    "#print(check_adv_label(labels4, images4, adv_images_AutoAttack))\n",
    "#plt.imshow(adv_images_AutoAttack[120].detach().numpy()[0])"
   ]
  },
  {
   "cell_type": "code",
   "execution_count": 53,
   "metadata": {},
   "outputs": [
    {
     "data": {
      "text/plain": [
       "torch.Size([28, 28])"
      ]
     },
     "execution_count": 53,
     "metadata": {},
     "output_type": "execute_result"
    }
   ],
   "source": [
    "import pickle\n",
    "with open('hdc_adv_data.pickle', 'rb') as f:\n",
    "    adv_images_hdc = pickle.load(f)\n",
    "adv_images_hdc[0][0][0].shape"
   ]
  },
  {
   "cell_type": "code",
   "execution_count": 54,
   "metadata": {},
   "outputs": [
    {
     "name": "stdout",
     "output_type": "stream",
     "text": [
      "From HDC tensor(0.0908) tensor(0.0929) tensor(0.0938) tensor(0.0922) tensor(0.0784) tensor(0.0870)\n",
      "From CW tensor(0.0908) tensor(0.0011) tensor(0.0012) tensor(0.0008) tensor(0.0039) tensor(0.0068)\n",
      "From PGD tensor(0.0929) tensor(0.0011) tensor(5.0026e-05) tensor(0.0017) tensor(0.0031) tensor(0.0076)\n",
      "From FGSM tensor(0.0938) tensor(0.0012) tensor(5.0026e-05) tensor(0.0018) tensor(0.0031) tensor(0.0077)\n",
      "From JSMA tensor(0.0922) tensor(0.0008) tensor(0.0017) tensor(0.0018) tensor(0.0030) tensor(0.0042)\n",
      "From DeepFool tensor(0.0784) tensor(0.0039) tensor(0.0031) tensor(0.0031) tensor(0.0030) tensor(0.0057)\n",
      "From SparseFool tensor(0.0870) tensor(0.0068) tensor(0.0076) tensor(0.0077) tensor(0.0042) tensor(0.0057)\n"
     ]
    }
   ],
   "source": [
    "mmd21 = MMD2.MMD(adv_images_CW[0][0], adv_images_hdc[0][0][0])\n",
    "mmd22 = MMD2.MMD(adv_images_PGD[0][0], adv_images_hdc[0][0][0])\n",
    "mmd23 = MMD2.MMD(adv_images_FGSM[0][0], adv_images_hdc[0][0][0])\n",
    "mmd24 = MMD2.MMD(adv_images_JSMA[0][0], adv_images_hdc[0][0][0])\n",
    "mmd25 = MMD2.MMD(adv_images_DeepFool[0][0], adv_images_hdc[0][0][0])\n",
    "mmd26 = MMD2.MMD(adv_images_SparseFool[0][0], adv_images_hdc[0][0][0])\n",
    "print(\"From HDC\", mmd21, mmd22, mmd23, mmd24, mmd25, mmd26)\n",
    "\n",
    "mmd21 = MMD2.MMD(adv_images_hdc[0][0][0], adv_images_CW[0][0])\n",
    "mmd22 = MMD2.MMD(adv_images_PGD[0][0], adv_images_CW[0][0])\n",
    "mmd23 = MMD2.MMD(adv_images_FGSM[0][0], adv_images_CW[0][0])\n",
    "mmd24 = MMD2.MMD(adv_images_JSMA[0][0], adv_images_CW[0][0])\n",
    "mmd25 = MMD2.MMD(adv_images_DeepFool[0][0], adv_images_CW[0][0])\n",
    "mmd26 = MMD2.MMD(adv_images_SparseFool[0][0], adv_images_CW[0][0])\n",
    "print(\"From CW\", mmd21, mmd22, mmd23, mmd24, mmd25, mmd26)\n",
    "\n",
    "mmd21 = MMD2.MMD(adv_images_hdc[0][0][0], adv_images_PGD[0][0])\n",
    "mmd22 = MMD2.MMD(adv_images_CW[0][0], adv_images_PGD[0][0])\n",
    "mmd23 = MMD2.MMD(adv_images_FGSM[0][0], adv_images_PGD[0][0])\n",
    "mmd24 = MMD2.MMD(adv_images_JSMA[0][0], adv_images_PGD[0][0])\n",
    "mmd25 = MMD2.MMD(adv_images_DeepFool[0][0], adv_images_PGD[0][0])\n",
    "mmd26 = MMD2.MMD(adv_images_SparseFool[0][0], adv_images_PGD[0][0])\n",
    "print(\"From PGD\", mmd21, mmd22, mmd23, mmd24, mmd25, mmd26)\n",
    "\n",
    "mmd21 = MMD2.MMD(adv_images_hdc[0][0][0], adv_images_FGSM[0][0])\n",
    "mmd22 = MMD2.MMD(adv_images_CW[0][0], adv_images_FGSM[0][0])\n",
    "mmd23 = MMD2.MMD(adv_images_PGD[0][0], adv_images_FGSM[0][0])\n",
    "mmd24 = MMD2.MMD(adv_images_JSMA[0][0], adv_images_FGSM[0][0])\n",
    "mmd25 = MMD2.MMD(adv_images_DeepFool[0][0], adv_images_FGSM[0][0])\n",
    "mmd26 = MMD2.MMD(adv_images_SparseFool[0][0], adv_images_FGSM[0][0])\n",
    "print(\"From FGSM\", mmd21, mmd22, mmd23, mmd24, mmd25, mmd26)\n",
    "\n",
    "mmd21 = MMD2.MMD(adv_images_hdc[0][0][0], adv_images_JSMA[0][0])\n",
    "mmd22 = MMD2.MMD(adv_images_CW[0][0], adv_images_JSMA[0][0])\n",
    "mmd23 = MMD2.MMD(adv_images_PGD[0][0], adv_images_JSMA[0][0])\n",
    "mmd24 = MMD2.MMD(adv_images_FGSM[0][0], adv_images_JSMA[0][0])\n",
    "mmd25 = MMD2.MMD(adv_images_DeepFool[0][0], adv_images_JSMA[0][0])\n",
    "mmd26 = MMD2.MMD(adv_images_SparseFool[0][0], adv_images_JSMA[0][0])\n",
    "print(\"From JSMA\", mmd21, mmd22, mmd23, mmd24, mmd25, mmd26)\n",
    "\n",
    "mmd21 = MMD2.MMD(adv_images_hdc[0][0][0], adv_images_DeepFool[0][0])\n",
    "mmd22 = MMD2.MMD(adv_images_CW[0][0], adv_images_DeepFool[0][0])\n",
    "mmd23 = MMD2.MMD(adv_images_PGD[0][0], adv_images_DeepFool[0][0])\n",
    "mmd24 = MMD2.MMD(adv_images_FGSM[0][0], adv_images_DeepFool[0][0])\n",
    "mmd25 = MMD2.MMD(adv_images_JSMA[0][0], adv_images_DeepFool[0][0])\n",
    "mmd26 = MMD2.MMD(adv_images_SparseFool[0][0], adv_images_DeepFool[0][0])\n",
    "print(\"From DeepFool\", mmd21, mmd22, mmd23, mmd24, mmd25, mmd26)\n",
    "\n",
    "mmd21 = MMD2.MMD(adv_images_hdc[0][0][0], adv_images_SparseFool[0][0])\n",
    "mmd22 = MMD2.MMD(adv_images_CW[0][0], adv_images_SparseFool[0][0])\n",
    "mmd23 = MMD2.MMD(adv_images_PGD[0][0], adv_images_SparseFool[0][0])\n",
    "mmd24 = MMD2.MMD(adv_images_FGSM[0][0], adv_images_SparseFool[0][0])\n",
    "mmd25 = MMD2.MMD(adv_images_JSMA[0][0], adv_images_SparseFool[0][0])\n",
    "mmd26 = MMD2.MMD(adv_images_DeepFool[0][0], adv_images_SparseFool[0][0])\n",
    "print(\"From SparseFool\", mmd21, mmd22, mmd23, mmd24, mmd25, mmd26)"
   ]
  },
  {
   "cell_type": "code",
   "execution_count": 60,
   "metadata": {},
   "outputs": [
    {
     "name": "stdout",
     "output_type": "stream",
     "text": [
      "From FGSM tensor(0.0908, grad_fn=<MeanBackward0>) tensor(0.0869, grad_fn=<DivBackward0>) tensor(0.0922) tensor(0.0929) tensor(0.0938) tensor(0.0908) tensor(0.0919, grad_fn=<MeanBackward0>)\n"
     ]
    }
   ],
   "source": [
    "def cal_MMD_dist():\n",
    "    mmd_dist = 0\n",
    "    for i in range(128):\n",
    "        mmd_dist = mmd_dist + MMD2.MMD(adv_images_AutoAttack[i][0], adv_images_hdc[i][0][0])\n",
    "    return mmd_dist/128\n",
    "\n",
    "mmd21 = MMD2.MMD(adv_images_AutoAttack[0][0], adv_images_hdc[0][0][0])\n",
    "mmd21 = cal_MMD_dist()\n",
    "mmd22 = MMD2.MMD(adv_images_JSMA[0][0], adv_images_hdc[0][0][0])\n",
    "mmd23 = MMD2.MMD(adv_images_PGD[0][0], adv_images_hdc[0][0][0])\n",
    "mmd24 = MMD2.MMD(adv_images_FGSM[0][0], adv_images_hdc[0][0][0])\n",
    "mmd25 = MMD2.MMD(adv_images_CW[0][0], adv_images_hdc[0][0][0])\n",
    "mmd26 = MMD2.MMD(adv_images_SPSA[0][0], adv_images_hdc[0][0][0])\n",
    "print(\"From FGSM\", mmd21, mmd22, mmd23, mmd24, mmd25, mmd26)"
   ]
  },
  {
   "cell_type": "code",
   "execution_count": 56,
   "metadata": {},
   "outputs": [
    {
     "name": "stdout",
     "output_type": "stream",
     "text": [
      "HypothesisTest(pvalue=0.009950248756218905, statistic=5.5746433596467515)\n",
      "HypothesisTest(pvalue=1.0, statistic=0.31766666671046195)\n",
      "HypothesisTest(pvalue=1.0, statistic=0.3752591693838747)\n",
      "HypothesisTest(pvalue=1.0, statistic=0.059932626746417306)\n",
      "HypothesisTest(pvalue=1.0, statistic=0.31766666671046195)\n",
      "HypothesisTest(pvalue=1.0, statistic=0.20169785631231818)\n"
     ]
    }
   ],
   "source": [
    "import dcor\n",
    "random_state = np.random.default_rng(63263)\n",
    "\n",
    "def ED(x, y):\n",
    "    return dcor.homogeneity.energy_test(x, y, num_resamples=200, random_state=random_state)\n",
    "\n",
    "print (ED(adv_images_hdc[0][0][0], adv_images_SparseFool[0][0]))\n",
    "print (ED(adv_images_AutoAttack[0][0].detach().numpy(), adv_images_FGSM[0][0]))\n",
    "print (ED(adv_images_JSMA[0][0], adv_images_FGSM[0][0]))\n",
    "print (ED(adv_images_PGD[0][0], adv_images_FGSM[0][0]))\n",
    "print (ED(adv_images_CW[0][0], adv_images_FGSM[0][0]))\n",
    "print (ED(adv_images_SPSA[0][0].detach().numpy(), adv_images_FGSM[0][0]))"
   ]
  },
  {
   "cell_type": "code",
   "execution_count": 24,
   "metadata": {},
   "outputs": [],
   "source": [
    "def abc_conf_metric(img, target):\n",
    "    score = 0\n",
    "        \n",
    "    shap_values = e.shap_values(img)\n",
    "    \n",
    "    for s_img in shap_values:\n",
    "        t_img = img\n",
    "        changed_attrs = 0\n",
    "        for p, batch in enumerate(s_img):\n",
    "            for q, channel in enumerate(batch):\n",
    "                for r, row in enumerate(channel):\n",
    "                    for s, col in enumerate(row):\n",
    "                        if s_img[p][q][r][s] > 0.001:\n",
    "                            changed_attrs = changed_attrs + 1\n",
    "                            t_img[p][q][r][s] = img[p][q][r][s] + 2\n",
    "                            \n",
    "        print (\"No of high valued features attributions\", changed_attrs)\n",
    "        \n",
    "        # Test for the mutated images\n",
    "        mutated_label = test_image(t_img)[0]\n",
    "        print(\"Mutated Label\", mutated_label)\n",
    "        # Does the mutated image is classified correctly?\n",
    "        if target == mutated_label:\n",
    "            score += 1\n",
    "        \n",
    "    return score/10"
   ]
  },
  {
   "cell_type": "code",
   "execution_count": null,
   "metadata": {},
   "outputs": [],
   "source": []
  },
  {
   "cell_type": "code",
   "execution_count": null,
   "metadata": {},
   "outputs": [],
   "source": []
  }
 ],
 "metadata": {
  "kernelspec": {
   "display_name": "Python [conda env:syft]",
   "language": "python",
   "name": "conda-env-syft-py"
  },
  "language_info": {
   "codemirror_mode": {
    "name": "ipython",
    "version": 3
   },
   "file_extension": ".py",
   "mimetype": "text/x-python",
   "name": "python",
   "nbconvert_exporter": "python",
   "pygments_lexer": "ipython3",
   "version": "3.9.5"
  }
 },
 "nbformat": 4,
 "nbformat_minor": 4
}
