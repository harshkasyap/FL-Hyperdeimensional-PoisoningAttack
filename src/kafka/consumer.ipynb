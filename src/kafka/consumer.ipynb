{
 "cells": [
  {
   "cell_type": "code",
   "execution_count": 34,
   "metadata": {},
   "outputs": [],
   "source": [
    "import sys, os\n",
    "sys.path.insert(0, os.path.abspath(os.path.join(os.getcwd(), \"../../\")))\n",
    "#from libs.topology_manager import *\n",
    "from libs.protobuf_consumer import *\n",
    "from libs import fl, nn, data, log\n",
    "\n",
    "import syft as sy\n",
    "from syft.federated.model_serialization import State\n",
    "from syft.federated.model_serialization import deserialize_model_params"
   ]
  },
  {
   "cell_type": "code",
   "execution_count": 35,
   "metadata": {},
   "outputs": [],
   "source": [
    "protobuf_consumer = ProtobufConsumer('mygroup', 'client-1', State.get_protobuf_schema(), 'pyflx')"
   ]
  },
  {
   "cell_type": "code",
   "execution_count": 36,
   "metadata": {},
   "outputs": [],
   "source": [
    "def getModel(pb):\n",
    "    serialized_params = pb.SerializeToString()\n",
    "    params = deserialize_model_params(serialized_params)\n",
    "    rcvd_model = nn.ModelMNIST()\n",
    "    rcvd_model_dict = rcvd_model.state_dict()\n",
    "\n",
    "    for index, key in enumerate(rcvd_model_dict):\n",
    "        rcvd_model_dict[key] = params[index]\n",
    "    rcvd_model.load_state_dict(rcvd_model_dict)\n",
    "\n",
    "    return rcvd_model"
   ]
  },
  {
   "cell_type": "code",
   "execution_count": 37,
   "metadata": {},
   "outputs": [
    {
     "name": "stdout",
     "output_type": "stream",
     "text": [
      "None\n",
      "None\n",
      "None\n",
      "None\n",
      "None\n",
      "None\n",
      "None\n",
      "None\n",
      "None\n",
      "None\n",
      "None\n",
      "None\n",
      "None\n",
      "None\n",
      "None\n",
      "<cimpl.Message object at 0x7f2a39399940>\n",
      "1\n",
      "20\n",
      "None\n",
      "None\n",
      "None\n",
      "None\n",
      "None\n",
      "None\n",
      "None\n",
      "None\n",
      "None\n",
      "None\n",
      "None\n",
      "None\n"
     ]
    }
   ],
   "source": [
    "try:\n",
    "    while True:\n",
    "        msg = protobuf_consumer.consume()\n",
    "        print(msg)\n",
    "        if msg is not None:\n",
    "            print(msg.key())\n",
    "            epoch = -1\n",
    "            for tup in msg.headers():\n",
    "                if tup[0] == 'iteration':\n",
    "                    epoch = tup[1].decode('utf-8')\n",
    "            print (epoch)\n",
    "            model = getModel(msg.value())\n",
    "except KeyboardInterrupt:\n",
    "    pass\n",
    "finally:\n",
    "    protobuf_consumer.close()"
   ]
  },
  {
   "cell_type": "code",
   "execution_count": null,
   "metadata": {},
   "outputs": [],
   "source": []
  },
  {
   "cell_type": "code",
   "execution_count": null,
   "metadata": {},
   "outputs": [],
   "source": []
  }
 ],
 "metadata": {
  "kernelspec": {
   "display_name": "Python [conda env:syft]",
   "language": "python",
   "name": "conda-env-syft-py"
  },
  "language_info": {
   "codemirror_mode": {
    "name": "ipython",
    "version": 3
   },
   "file_extension": ".py",
   "mimetype": "text/x-python",
   "name": "python",
   "nbconvert_exporter": "python",
   "pygments_lexer": "ipython3",
   "version": "3.9.5"
  }
 },
 "nbformat": 4,
 "nbformat_minor": 4
}
